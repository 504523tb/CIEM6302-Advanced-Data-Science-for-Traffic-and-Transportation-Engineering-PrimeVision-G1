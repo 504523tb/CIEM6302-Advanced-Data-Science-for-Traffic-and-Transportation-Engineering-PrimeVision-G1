{
 "cells": [
  {
   "cell_type": "code",
   "execution_count": 9,
   "metadata": {},
   "outputs": [],
   "source": [
    "# Load data and packages\n",
    "import os\n",
    "import pandas as pd\n",
    "import numpy as np\n",
    "import matplotlib.pyplot as plt\n",
    "import plotly.graph_objects as go\n",
    "import pmdarima as pm\n",
    "from pmdarima import auto_arima\n",
    "from scipy.stats import boxcox\n",
    "from scipy.special import inv_boxcox\n",
    "from statsmodels.tsa.arima.model import ARIMA\n",
    "\n",
    "directory_path = os.getcwd() + \"\\\\Data\\\\sorting_event_volumes_2023.csv\"\n",
    "\n",
    "df = pd.read_csv(directory_path)"
   ]
  },
  {
   "cell_type": "code",
   "execution_count": 10,
   "metadata": {},
   "outputs": [],
   "source": [
    "def fill_missing_events(df):\n",
    "    all_dates = pd.date_range(start=df['scanning_date'].min(), end=df['scanning_date'].max())\n",
    "\n",
    "    all_combinations = pd.MultiIndex.from_product([df[\"sorting_center_name\"].unique(), all_dates, df['output_belt'].unique()], names=['sorting_center_name', 'scanning_date', 'output_belt'])\n",
    "    all_combinations_df = pd.DataFrame(index=all_combinations).reset_index()\n",
    "\n",
    "    df_filled = pd.merge(all_combinations_df, df, on=['sorting_center_name', 'scanning_date', 'output_belt'], how='left')\n",
    "    df_filled['no_of_events'] = df_filled['no_of_events'].fillna(0.0001)\n",
    "\n",
    "    return df_filled"
   ]
  },
  {
   "cell_type": "code",
   "execution_count": null,
   "metadata": {},
   "outputs": [],
   "source": [
    "# Data cleaning\n",
    "print(\"Number of rows original dataset is: \" + str(df.shape[0]))\n",
    "\n",
    "df = df.loc[df[\"event_type\"] == \"LAJ\", :]\n",
    "df.drop(['event_location', 'input_belt', 'position'], axis=1, inplace = True)\n",
    "df.dropna(inplace = True)\n",
    "df['output_belt'] = df['output_belt'].astype(int)\n",
    "df = df.groupby(['sorting_center_name', 'scanning_date', 'output_belt'], as_index = False)['no_of_events'].sum()\n",
    "df['scanning_date'] = pd.to_datetime(df['scanning_date'])\n",
    "df = fill_missing_events(df)\n",
    "\n",
    "print(\"Number of rows cleaned dataset is: \" + str(df.shape[0]))"
   ]
  },
  {
   "cell_type": "code",
   "execution_count": null,
   "metadata": {},
   "outputs": [],
   "source": [
    "# Data preparation\n",
    "df['day'] = df['scanning_date'].dt.day\n",
    "df['month'] = df['scanning_date'].dt.month\n",
    "df['weekday'] = df['scanning_date'].dt.dayofweek + 1\n",
    "df['week'] = df['scanning_date'].dt.isocalendar().week\n",
    "df['week_of_month'] = (df['day'] - 1) // 7 + 1\n",
    "df['yearday'] = df['scanning_date'].dt.day_of_year\n",
    "df['yearday_sin'] = np.sin(df['yearday'] / 7 * 2 * np.pi)\n",
    "df['yearday_cos'] = np.cos(df['yearday'] / 7 * 2 * np.pi)\n",
    "\n",
    "sorting_center_names = df[\"sorting_center_name\"].unique()\n",
    "df[\"sorting_center_name\"].value_counts()\n"
   ]
  },
  {
   "cell_type": "code",
   "execution_count": null,
   "metadata": {},
   "outputs": [],
   "source": [
    "df_KUOPIO_0 = df[(df[\"sorting_center_name\"] == \"KUOPIO\") & (df[\"output_belt\"] == 0)]\n",
    "print(df_KUOPIO_0.head())"
   ]
  },
  {
   "cell_type": "code",
   "execution_count": null,
   "metadata": {},
   "outputs": [],
   "source": [
    "# Determine hyperparameters per sorting center\n",
    "df_vantaa = df[df[\"sorting_center_name\"] == \"VANTAA\"]\n",
    "df_vantaa.drop([\"sorting_center_name\"], axis=1, inplace=True)\n",
    "\n",
    "df_vantaa[\"no_of_events_boxcox\"], lam = boxcox(df_vantaa[\"no_of_events\"])\n",
    "df_vantaa[\"no_of_events_diff\"] = df_vantaa[\"no_of_events_boxcox\"].diff()\n",
    "df_vantaa.dropna(inplace=True)\n",
    "\n",
    "train = df_vantaa.iloc[:-int(len(df_vantaa) * 0.25)]\n",
    "\n",
    "# TUNE PER SORTING CENTER\n",
    "model = auto_arima(train[\"no_of_events_boxcox\"], \n",
    "                    seasonal=False, \n",
    "                    stepwise=True,  \n",
    "                    suppress_warnings=True, \n",
    "                    trace=False)   \n",
    "\n",
    "p, d, q = model.order\n",
    "print(f\"Optimal order: p={p}, d={d}, q={q}\")"
   ]
  },
  {
   "cell_type": "code",
   "execution_count": null,
   "metadata": {},
   "outputs": [],
   "source": [
    "# Train and test ARIMA per output belt\n",
    "output_belts = df_vantaa['output_belt'].unique()\n",
    "for output_belt in output_belts:\n",
    "    df_output_belt = df_vantaa[df_vantaa[\"output_belt\"] == output_belt]\n",
    "    \n",
    "    '''df_output_belt[\"no_of_events_boxcox\"], lam = boxcox(df_output_belt[\"no_of_events\"])\n",
    "    df_output_belt[\"no_of_events_diff\"] = df_output_belt[\"no_of_events_boxcox\"].diff()\n",
    "    df_output_belt.dropna(inplace=True)'''\n",
    "\n",
    "    train = df_output_belt.iloc[:-int(len(df_output_belt) * 0.25)]\n",
    "    test = df_output_belt.iloc[-int(len(df_output_belt) * 0.10):-int(len(df_output_belt) * 0.05)]\n",
    "    \n",
    "    # TUNE PER SORTING CENTER\n",
    "    '''model = auto_arima(train[\"no_of_events_boxcox\"], \n",
    "                       seasonal=False, \n",
    "                       stepwise=True,  \n",
    "                       suppress_warnings=True, \n",
    "                       trace=False)'''  \n",
    "\n",
    "    arima_model = ARIMA(train[\"no_of_events_boxcox\"], order=(p, d, q)).fit()\n",
    "\n",
    "    boxcox_forecast = arima_model.forecast(len(test))\n",
    "    forecasts = inv_boxcox(boxcox_forecast, lam)\n",
    "\n",
    "    break"
   ]
  },
  {
   "cell_type": "code",
   "execution_count": null,
   "metadata": {},
   "outputs": [],
   "source": [
    "def plot_forecasts(forecast: list[float], title: str) -> None:\n",
    "    \"\"\"Function to plot the forecasts\"\"\"\n",
    "    fig = go.Figure()\n",
    "    fig.add_trace(go.Scatter(x=train[\"scanning_date\"], y=train[\"no_of_events\"], name=\"Train\"))\n",
    "    fig.add_trace(go.Scatter(x=test[\"scanning_date\"], y=test[\"no_of_events\"], name=\"Test\"))\n",
    "    fig.add_trace(go.Scatter(x=test[\"scanning_date\"], y=forecasts, name=\"Test\"))\n",
    "    fig.update_layout(template=\"simple_white\", font=dict(size=18), title_text=title,\n",
    "                      width=650, title_x=0.5, height=400, xaxis_title=\"scanning_date\",\n",
    "                      yaxis_title=\"no_of_events\")\n",
    "    \n",
    "    return fig.show()\n",
    "\n",
    "plot_forecasts(forecasts, \"ARIMA\")"
   ]
  }
 ],
 "metadata": {
  "kernelspec": {
   "display_name": "Python 3",
   "language": "python",
   "name": "python3"
  },
  "language_info": {
   "codemirror_mode": {
    "name": "ipython",
    "version": 3
   },
   "file_extension": ".py",
   "mimetype": "text/x-python",
   "name": "python",
   "nbconvert_exporter": "python",
   "pygments_lexer": "ipython3",
   "version": "3.12.1"
  }
 },
 "nbformat": 4,
 "nbformat_minor": 2
}
