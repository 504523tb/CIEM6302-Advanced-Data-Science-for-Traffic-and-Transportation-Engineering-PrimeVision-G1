{
 "cells": [
  {
   "cell_type": "code",
   "execution_count": 150,
   "metadata": {},
   "outputs": [],
   "source": [
    "# Load data and packages\n",
    "import os\n",
    "import pandas as pd\n",
    "import numpy as np\n",
    "import matplotlib.pyplot as plt\n",
    "from sklearn.model_selection import train_test_split\n",
    "from sklearn.linear_model import LinearRegression\n",
    "from sklearn.metrics import mean_squared_error\n",
    "from sklearn.metrics import mean_absolute_error\n",
    "directory_path = os.getcwd() + \"\\\\Data\\\\sorting_event_volumes_2023.csv\"\n",
    "\n",
    "df = pd.read_csv(directory_path)\n"
   ]
  },
  {
   "cell_type": "code",
   "execution_count": 151,
   "metadata": {},
   "outputs": [
    {
     "name": "stdout",
     "output_type": "stream",
     "text": [
      "Number of rows is: 8949721\n",
      "Number of rows cleaned data is: 7450939\n"
     ]
    }
   ],
   "source": [
    "# Data cleaning\n",
    "print(\"Number of rows is: \" + str(df.shape[0]))\n",
    "\n",
    "df = df.loc[df[\"event_type\"] == \"LAJ\", :]\n",
    "df.drop(['event_location', 'input_belt', 'position'], axis=1, inplace = True)\n",
    "df.dropna(inplace = True)\n",
    "df['output_belt'] = df['output_belt'].astype(int)\n",
    "df['scanning_date'] = pd.to_datetime(df['scanning_date'])\n",
    "\n",
    "print(\"Number of rows cleaned data is: \" + str(df.shape[0]))"
   ]
  },
  {
   "cell_type": "code",
   "execution_count": 152,
   "metadata": {},
   "outputs": [
    {
     "data": {
      "text/plain": [
       "VANTAA       4888466\n",
       "TAMPERE      1154436\n",
       "KUOPIO        578274\n",
       "LIETO         443087\n",
       "OULU          354047\n",
       "SEINÄJOKI      32629\n",
       "Name: sorting_center_name, dtype: int64"
      ]
     },
     "execution_count": 152,
     "metadata": {},
     "output_type": "execute_result"
    }
   ],
   "source": [
    "# Data preparation\n",
    "df['day'] = df['scanning_date'].dt.day\n",
    "df['month'] = df['scanning_date'].dt.month\n",
    "df['weekday'] = df['scanning_date'].dt.day_of_week + 1\n",
    "df['week'] = df['scanning_date'].dt.day_of_year // 7 + 1\n",
    "df['yearday'] = df['scanning_date'].dt.day_of_year\n",
    "df['yearday_sin'] = np.sin(df['yearday'] / 7 * 2 * np.pi)\n",
    "df['yearday_cos'] = np.cos(df['yearday'] / 7 * 2 * np.pi)\n",
    "\n",
    "sorting_center_names = df[\"sorting_center_name\"].unique()\n",
    "df[\"sorting_center_name\"].value_counts()"
   ]
  },
  {
   "cell_type": "code",
   "execution_count": 153,
   "metadata": {},
   "outputs": [
    {
     "data": {
      "text/html": [
       "<div>\n",
       "<style scoped>\n",
       "    .dataframe tbody tr th:only-of-type {\n",
       "        vertical-align: middle;\n",
       "    }\n",
       "\n",
       "    .dataframe tbody tr th {\n",
       "        vertical-align: top;\n",
       "    }\n",
       "\n",
       "    .dataframe thead th {\n",
       "        text-align: right;\n",
       "    }\n",
       "</style>\n",
       "<table border=\"1\" class=\"dataframe\">\n",
       "  <thead>\n",
       "    <tr style=\"text-align: right;\">\n",
       "      <th></th>\n",
       "      <th>scanning_date</th>\n",
       "      <th>sorting_center_name</th>\n",
       "      <th>no_of_events</th>\n",
       "      <th>day</th>\n",
       "      <th>month</th>\n",
       "      <th>weekday</th>\n",
       "      <th>week</th>\n",
       "      <th>yearday</th>\n",
       "      <th>yearday_sin</th>\n",
       "      <th>yearday_cos</th>\n",
       "    </tr>\n",
       "  </thead>\n",
       "  <tbody>\n",
       "    <tr>\n",
       "      <th>0</th>\n",
       "      <td>2023-01-01</td>\n",
       "      <td>LIETO</td>\n",
       "      <td>3650</td>\n",
       "      <td>1</td>\n",
       "      <td>1</td>\n",
       "      <td>7</td>\n",
       "      <td>1</td>\n",
       "      <td>1</td>\n",
       "      <td>7.818315e-01</td>\n",
       "      <td>0.623490</td>\n",
       "    </tr>\n",
       "    <tr>\n",
       "      <th>1</th>\n",
       "      <td>2023-01-01</td>\n",
       "      <td>OULU</td>\n",
       "      <td>1441</td>\n",
       "      <td>1</td>\n",
       "      <td>1</td>\n",
       "      <td>7</td>\n",
       "      <td>1</td>\n",
       "      <td>1</td>\n",
       "      <td>7.818315e-01</td>\n",
       "      <td>0.623490</td>\n",
       "    </tr>\n",
       "    <tr>\n",
       "      <th>2</th>\n",
       "      <td>2023-01-01</td>\n",
       "      <td>TAMPERE</td>\n",
       "      <td>1458</td>\n",
       "      <td>1</td>\n",
       "      <td>1</td>\n",
       "      <td>7</td>\n",
       "      <td>1</td>\n",
       "      <td>1</td>\n",
       "      <td>7.818315e-01</td>\n",
       "      <td>0.623490</td>\n",
       "    </tr>\n",
       "    <tr>\n",
       "      <th>3</th>\n",
       "      <td>2023-01-02</td>\n",
       "      <td>KUOPIO</td>\n",
       "      <td>23812</td>\n",
       "      <td>2</td>\n",
       "      <td>1</td>\n",
       "      <td>1</td>\n",
       "      <td>1</td>\n",
       "      <td>2</td>\n",
       "      <td>9.749279e-01</td>\n",
       "      <td>-0.222521</td>\n",
       "    </tr>\n",
       "    <tr>\n",
       "      <th>4</th>\n",
       "      <td>2023-01-02</td>\n",
       "      <td>LIETO</td>\n",
       "      <td>44598</td>\n",
       "      <td>2</td>\n",
       "      <td>1</td>\n",
       "      <td>1</td>\n",
       "      <td>1</td>\n",
       "      <td>2</td>\n",
       "      <td>9.749279e-01</td>\n",
       "      <td>-0.222521</td>\n",
       "    </tr>\n",
       "    <tr>\n",
       "      <th>...</th>\n",
       "      <td>...</td>\n",
       "      <td>...</td>\n",
       "      <td>...</td>\n",
       "      <td>...</td>\n",
       "      <td>...</td>\n",
       "      <td>...</td>\n",
       "      <td>...</td>\n",
       "      <td>...</td>\n",
       "      <td>...</td>\n",
       "      <td>...</td>\n",
       "    </tr>\n",
       "    <tr>\n",
       "      <th>1876</th>\n",
       "      <td>2023-12-29</td>\n",
       "      <td>OULU</td>\n",
       "      <td>19831</td>\n",
       "      <td>29</td>\n",
       "      <td>12</td>\n",
       "      <td>5</td>\n",
       "      <td>52</td>\n",
       "      <td>363</td>\n",
       "      <td>-7.818315e-01</td>\n",
       "      <td>0.623490</td>\n",
       "    </tr>\n",
       "    <tr>\n",
       "      <th>1877</th>\n",
       "      <td>2023-12-29</td>\n",
       "      <td>SEINÄJOKI</td>\n",
       "      <td>15100</td>\n",
       "      <td>29</td>\n",
       "      <td>12</td>\n",
       "      <td>5</td>\n",
       "      <td>52</td>\n",
       "      <td>363</td>\n",
       "      <td>-7.818315e-01</td>\n",
       "      <td>0.623490</td>\n",
       "    </tr>\n",
       "    <tr>\n",
       "      <th>1878</th>\n",
       "      <td>2023-12-29</td>\n",
       "      <td>TAMPERE</td>\n",
       "      <td>34499</td>\n",
       "      <td>29</td>\n",
       "      <td>12</td>\n",
       "      <td>5</td>\n",
       "      <td>52</td>\n",
       "      <td>363</td>\n",
       "      <td>-7.818315e-01</td>\n",
       "      <td>0.623490</td>\n",
       "    </tr>\n",
       "    <tr>\n",
       "      <th>1879</th>\n",
       "      <td>2023-12-29</td>\n",
       "      <td>VANTAA</td>\n",
       "      <td>129349</td>\n",
       "      <td>29</td>\n",
       "      <td>12</td>\n",
       "      <td>5</td>\n",
       "      <td>52</td>\n",
       "      <td>363</td>\n",
       "      <td>-7.818315e-01</td>\n",
       "      <td>0.623490</td>\n",
       "    </tr>\n",
       "    <tr>\n",
       "      <th>1880</th>\n",
       "      <td>2023-12-30</td>\n",
       "      <td>VANTAA</td>\n",
       "      <td>41895</td>\n",
       "      <td>30</td>\n",
       "      <td>12</td>\n",
       "      <td>6</td>\n",
       "      <td>53</td>\n",
       "      <td>364</td>\n",
       "      <td>1.568538e-14</td>\n",
       "      <td>1.000000</td>\n",
       "    </tr>\n",
       "  </tbody>\n",
       "</table>\n",
       "<p>1881 rows × 10 columns</p>\n",
       "</div>"
      ],
      "text/plain": [
       "     scanning_date sorting_center_name  no_of_events  day  month  weekday  \\\n",
       "0       2023-01-01               LIETO          3650    1      1        7   \n",
       "1       2023-01-01                OULU          1441    1      1        7   \n",
       "2       2023-01-01             TAMPERE          1458    1      1        7   \n",
       "3       2023-01-02              KUOPIO         23812    2      1        1   \n",
       "4       2023-01-02               LIETO         44598    2      1        1   \n",
       "...            ...                 ...           ...  ...    ...      ...   \n",
       "1876    2023-12-29                OULU         19831   29     12        5   \n",
       "1877    2023-12-29           SEINÄJOKI         15100   29     12        5   \n",
       "1878    2023-12-29             TAMPERE         34499   29     12        5   \n",
       "1879    2023-12-29              VANTAA        129349   29     12        5   \n",
       "1880    2023-12-30              VANTAA         41895   30     12        6   \n",
       "\n",
       "      week  yearday   yearday_sin  yearday_cos  \n",
       "0        1        1  7.818315e-01     0.623490  \n",
       "1        1        1  7.818315e-01     0.623490  \n",
       "2        1        1  7.818315e-01     0.623490  \n",
       "3        1        2  9.749279e-01    -0.222521  \n",
       "4        1        2  9.749279e-01    -0.222521  \n",
       "...    ...      ...           ...          ...  \n",
       "1876    52      363 -7.818315e-01     0.623490  \n",
       "1877    52      363 -7.818315e-01     0.623490  \n",
       "1878    52      363 -7.818315e-01     0.623490  \n",
       "1879    52      363 -7.818315e-01     0.623490  \n",
       "1880    53      364  1.568538e-14     1.000000  \n",
       "\n",
       "[1881 rows x 10 columns]"
      ]
     },
     "execution_count": 153,
     "metadata": {},
     "output_type": "execute_result"
    }
   ],
   "source": [
    "#aggregating data\n",
    "adf = df.groupby(['scanning_date','sorting_center_name'])['no_of_events'].sum().reset_index()\n",
    "adf['day'] = adf['scanning_date'].dt.day\n",
    "adf['month'] = adf['scanning_date'].dt.month\n",
    "adf['weekday'] = adf['scanning_date'].dt.day_of_week + 1\n",
    "adf['week'] = adf['scanning_date'].dt.day_of_year // 7 + 1\n",
    "adf['yearday'] = adf['scanning_date'].dt.day_of_year\n",
    "adf['yearday_sin'] = np.sin(adf['yearday'] / 7 * 2 * np.pi)\n",
    "adf['yearday_cos'] = np.cos(adf['yearday'] / 7 * 2 * np.pi)\n",
    "adf"
   ]
  },
  {
   "cell_type": "code",
   "execution_count": 154,
   "metadata": {},
   "outputs": [],
   "source": [
    "#missing dates: 9 april, 24 june, 24 dec, 25 dec, 31 dec"
   ]
  },
  {
   "cell_type": "code",
   "execution_count": 155,
   "metadata": {},
   "outputs": [],
   "source": [
    "#import plotly.express as px\n",
    "#fig_weekday = px.histogram(df.weekday,x='weekday')\n",
    "#fig_weekday.update_layout(bargap=0.2)\n",
    "#fig_weekday.show()"
   ]
  },
  {
   "cell_type": "code",
   "execution_count": 156,
   "metadata": {},
   "outputs": [
    {
     "data": {
      "image/png": "[encoded data removed]",
      "text/plain": [
       "<Figure size 640x480 with 1 Axes>"
      ]
     },
     "metadata": {},
     "output_type": "display_data"
    }
   ],
   "source": [
    "# Create the histogram\n",
    "plt.hist(df['weekday'], bins=7, edgecolor='black')\n",
    "\n",
    "# Add labels and title\n",
    "plt.xlabel('Value')\n",
    "plt.ylabel('Frequency')\n",
    "plt.title('Histogram of weekday')\n",
    "\n",
    "# Show the plot\n",
    "plt.show()"
   ]
  },
  {
   "cell_type": "code",
   "execution_count": 157,
   "metadata": {},
   "outputs": [
    {
     "name": "stdout",
     "output_type": "stream",
     "text": [
      "              no_of_events\n",
      "no_of_events      1.000000\n",
      "day               0.021900\n",
      "month             0.050323\n",
      "weekday          -0.289534\n",
      "week              0.049091\n",
      "yearday           0.052139\n",
      "yearday_sin      -0.100394\n",
      "yearday_cos      -0.240350\n"
     ]
    },
    {
     "name": "stderr",
     "output_type": "stream",
     "text": [
      "C:\\Users\\krist\\AppData\\Local\\Temp\\ipykernel_18696\\4022224248.py:3: FutureWarning: The default value of numeric_only in DataFrame.corr is deprecated. In a future version, it will default to False. Select only valid columns or specify the value of numeric_only to silence this warning.\n",
      "  target_covariance_matrix = adf.corr()[['no_of_events']]\n"
     ]
    },
    {
     "data": {
      "text/plain": [
       "<Axes: >"
      ]
     },
     "execution_count": 157,
     "metadata": {},
     "output_type": "execute_result"
    },
    {
     "data": {
      "image/png": "[encoded data removed]",
      "text/plain": [
       "<Figure size 640x480 with 2 Axes>"
      ]
     },
     "metadata": {},
     "output_type": "display_data"
    }
   ],
   "source": [
    "import seaborn as sns\n",
    "#determine correlations\n",
    "target_covariance_matrix = adf.corr()[['no_of_events']]\n",
    "print(target_covariance_matrix)\n",
    "sns.heatmap(target_covariance_matrix,annot=True, cmap='coolwarm')"
   ]
  },
  {
   "cell_type": "code",
   "execution_count": 158,
   "metadata": {},
   "outputs": [],
   "source": [
    "X = adf[['week','day','weekday']]\n",
    "y = adf['no_of_events']"
   ]
  },
  {
   "cell_type": "code",
   "execution_count": 159,
   "metadata": {},
   "outputs": [
    {
     "data": {
      "text/html": [
       "<style>#sk-container-id-3 {color: black;}#sk-container-id-3 pre{padding: 0;}#sk-container-id-3 div.sk-toggleable {background-color: white;}#sk-container-id-3 label.sk-toggleable__label {cursor: pointer;display: block;width: 100%;margin-bottom: 0;padding: 0.3em;box-sizing: border-box;text-align: center;}#sk-container-id-3 label.sk-toggleable__label-arrow:before {content: \"▸\";float: left;margin-right: 0.25em;color: #696969;}#sk-container-id-3 label.sk-toggleable__label-arrow:hover:before {color: black;}#sk-container-id-3 div.sk-estimator:hover label.sk-toggleable__label-arrow:before {color: black;}#sk-container-id-3 div.sk-toggleable__content {max-height: 0;max-width: 0;overflow: hidden;text-align: left;background-color: #f0f8ff;}#sk-container-id-3 div.sk-toggleable__content pre {margin: 0.2em;color: black;border-radius: 0.25em;background-color: #f0f8ff;}#sk-container-id-3 input.sk-toggleable__control:checked~div.sk-toggleable__content {max-height: 200px;max-width: 100%;overflow: auto;}#sk-container-id-3 input.sk-toggleable__control:checked~label.sk-toggleable__label-arrow:before {content: \"▾\";}#sk-container-id-3 div.sk-estimator input.sk-toggleable__control:checked~label.sk-toggleable__label {background-color: #d4ebff;}#sk-container-id-3 div.sk-label input.sk-toggleable__control:checked~label.sk-toggleable__label {background-color: #d4ebff;}#sk-container-id-3 input.sk-hidden--visually {border: 0;clip: rect(1px 1px 1px 1px);clip: rect(1px, 1px, 1px, 1px);height: 1px;margin: -1px;overflow: hidden;padding: 0;position: absolute;width: 1px;}#sk-container-id-3 div.sk-estimator {font-family: monospace;background-color: #f0f8ff;border: 1px dotted black;border-radius: 0.25em;box-sizing: border-box;margin-bottom: 0.5em;}#sk-container-id-3 div.sk-estimator:hover {background-color: #d4ebff;}#sk-container-id-3 div.sk-parallel-item::after {content: \"\";width: 100%;border-bottom: 1px solid gray;flex-grow: 1;}#sk-container-id-3 div.sk-label:hover label.sk-toggleable__label {background-color: #d4ebff;}#sk-container-id-3 div.sk-serial::before {content: \"\";position: absolute;border-left: 1px solid gray;box-sizing: border-box;top: 0;bottom: 0;left: 50%;z-index: 0;}#sk-container-id-3 div.sk-serial {display: flex;flex-direction: column;align-items: center;background-color: white;padding-right: 0.2em;padding-left: 0.2em;position: relative;}#sk-container-id-3 div.sk-item {position: relative;z-index: 1;}#sk-container-id-3 div.sk-parallel {display: flex;align-items: stretch;justify-content: center;background-color: white;position: relative;}#sk-container-id-3 div.sk-item::before, #sk-container-id-3 div.sk-parallel-item::before {content: \"\";position: absolute;border-left: 1px solid gray;box-sizing: border-box;top: 0;bottom: 0;left: 50%;z-index: -1;}#sk-container-id-3 div.sk-parallel-item {display: flex;flex-direction: column;z-index: 1;position: relative;background-color: white;}#sk-container-id-3 div.sk-parallel-item:first-child::after {align-self: flex-end;width: 50%;}#sk-container-id-3 div.sk-parallel-item:last-child::after {align-self: flex-start;width: 50%;}#sk-container-id-3 div.sk-parallel-item:only-child::after {width: 0;}#sk-container-id-3 div.sk-dashed-wrapped {border: 1px dashed gray;margin: 0 0.4em 0.5em 0.4em;box-sizing: border-box;padding-bottom: 0.4em;background-color: white;}#sk-container-id-3 div.sk-label label {font-family: monospace;font-weight: bold;display: inline-block;line-height: 1.2em;}#sk-container-id-3 div.sk-label-container {text-align: center;}#sk-container-id-3 div.sk-container {/* jupyter's `normalize.less` sets `[hidden] { display: none; }` but bootstrap.min.css set `[hidden] { display: none !important; }` so we also need the `!important` here to be able to override the default hidden behavior on the sphinx rendered scikit-learn.org. See: https://github.com/scikit-learn/scikit-learn/issues/21755 */display: inline-block !important;position: relative;}#sk-container-id-3 div.sk-text-repr-fallback {display: none;}</style><div id=\"sk-container-id-3\" class=\"sk-top-container\"><div class=\"sk-text-repr-fallback\"><pre>LinearRegression()</pre><b>In a Jupyter environment, please rerun this cell to show the HTML representation or trust the notebook. <br />On GitHub, the HTML representation is unable to render, please try loading this page with nbviewer.org.</b></div><div class=\"sk-container\" hidden><div class=\"sk-item\"><div class=\"sk-estimator sk-toggleable\"><input class=\"sk-toggleable__control sk-hidden--visually\" id=\"sk-estimator-id-3\" type=\"checkbox\" checked><label for=\"sk-estimator-id-3\" class=\"sk-toggleable__label sk-toggleable__label-arrow\">LinearRegression</label><div class=\"sk-toggleable__content\"><pre>LinearRegression()</pre></div></div></div></div></div>"
      ],
      "text/plain": [
       "LinearRegression()"
      ]
     },
     "execution_count": 159,
     "metadata": {},
     "output_type": "execute_result"
    }
   ],
   "source": [
    "from sklearn.linear_model import LinearRegression\n",
    "model = LinearRegression()\n",
    "model.fit(X, y)"
   ]
  },
  {
   "cell_type": "code",
   "execution_count": 160,
   "metadata": {},
   "outputs": [
    {
     "name": "stdout",
     "output_type": "stream",
     "text": [
      "[  183.35184434    51.27938877 -7192.42932543]\n",
      "64133.30543567074\n"
     ]
    }
   ],
   "source": [
    "#print coefficient values for unstandardized model\n",
    "print(model.coef_)\n",
    "print(model.intercept_)"
   ]
  },
  {
   "cell_type": "code",
   "execution_count": 161,
   "metadata": {},
   "outputs": [
    {
     "name": "stdout",
     "output_type": "stream",
     "text": [
      "R-squared: 0.0873\n",
      "Mean Absolute Error: 31185.0597\n",
      "Mean Squared Error: 2071221522.4148\n",
      "Root Mean Squared Error: 45510.6748\n"
     ]
    }
   ],
   "source": [
    "from sklearn.metrics import mean_absolute_error, mean_squared_error, r2_score\n",
    "y_pred = model.predict(X)\n",
    "# Calculate metrics\n",
    "r_squared = r2_score(y, y_pred)\n",
    "mae = mean_absolute_error(y, y_pred)\n",
    "mse = mean_squared_error(y, y_pred)\n",
    "rmse = mean_squared_error(y, y_pred, squared=False)\n",
    "\n",
    "# Print the metrics\n",
    "print(f\"R-squared: {r_squared:.4f}\")\n",
    "print(f\"Mean Absolute Error: {mae:.4f}\")\n",
    "print(f\"Mean Squared Error: {mse:.4f}\")\n",
    "print(f\"Root Mean Squared Error: {rmse:.4f}\")"
   ]
  },
  {
   "cell_type": "code",
   "execution_count": 162,
   "metadata": {},
   "outputs": [
    {
     "data": {
      "text/html": [
       "<style>#sk-container-id-4 {color: black;}#sk-container-id-4 pre{padding: 0;}#sk-container-id-4 div.sk-toggleable {background-color: white;}#sk-container-id-4 label.sk-toggleable__label {cursor: pointer;display: block;width: 100%;margin-bottom: 0;padding: 0.3em;box-sizing: border-box;text-align: center;}#sk-container-id-4 label.sk-toggleable__label-arrow:before {content: \"▸\";float: left;margin-right: 0.25em;color: #696969;}#sk-container-id-4 label.sk-toggleable__label-arrow:hover:before {color: black;}#sk-container-id-4 div.sk-estimator:hover label.sk-toggleable__label-arrow:before {color: black;}#sk-container-id-4 div.sk-toggleable__content {max-height: 0;max-width: 0;overflow: hidden;text-align: left;background-color: #f0f8ff;}#sk-container-id-4 div.sk-toggleable__content pre {margin: 0.2em;color: black;border-radius: 0.25em;background-color: #f0f8ff;}#sk-container-id-4 input.sk-toggleable__control:checked~div.sk-toggleable__content {max-height: 200px;max-width: 100%;overflow: auto;}#sk-container-id-4 input.sk-toggleable__control:checked~label.sk-toggleable__label-arrow:before {content: \"▾\";}#sk-container-id-4 div.sk-estimator input.sk-toggleable__control:checked~label.sk-toggleable__label {background-color: #d4ebff;}#sk-container-id-4 div.sk-label input.sk-toggleable__control:checked~label.sk-toggleable__label {background-color: #d4ebff;}#sk-container-id-4 input.sk-hidden--visually {border: 0;clip: rect(1px 1px 1px 1px);clip: rect(1px, 1px, 1px, 1px);height: 1px;margin: -1px;overflow: hidden;padding: 0;position: absolute;width: 1px;}#sk-container-id-4 div.sk-estimator {font-family: monospace;background-color: #f0f8ff;border: 1px dotted black;border-radius: 0.25em;box-sizing: border-box;margin-bottom: 0.5em;}#sk-container-id-4 div.sk-estimator:hover {background-color: #d4ebff;}#sk-container-id-4 div.sk-parallel-item::after {content: \"\";width: 100%;border-bottom: 1px solid gray;flex-grow: 1;}#sk-container-id-4 div.sk-label:hover label.sk-toggleable__label {background-color: #d4ebff;}#sk-container-id-4 div.sk-serial::before {content: \"\";position: absolute;border-left: 1px solid gray;box-sizing: border-box;top: 0;bottom: 0;left: 50%;z-index: 0;}#sk-container-id-4 div.sk-serial {display: flex;flex-direction: column;align-items: center;background-color: white;padding-right: 0.2em;padding-left: 0.2em;position: relative;}#sk-container-id-4 div.sk-item {position: relative;z-index: 1;}#sk-container-id-4 div.sk-parallel {display: flex;align-items: stretch;justify-content: center;background-color: white;position: relative;}#sk-container-id-4 div.sk-item::before, #sk-container-id-4 div.sk-parallel-item::before {content: \"\";position: absolute;border-left: 1px solid gray;box-sizing: border-box;top: 0;bottom: 0;left: 50%;z-index: -1;}#sk-container-id-4 div.sk-parallel-item {display: flex;flex-direction: column;z-index: 1;position: relative;background-color: white;}#sk-container-id-4 div.sk-parallel-item:first-child::after {align-self: flex-end;width: 50%;}#sk-container-id-4 div.sk-parallel-item:last-child::after {align-self: flex-start;width: 50%;}#sk-container-id-4 div.sk-parallel-item:only-child::after {width: 0;}#sk-container-id-4 div.sk-dashed-wrapped {border: 1px dashed gray;margin: 0 0.4em 0.5em 0.4em;box-sizing: border-box;padding-bottom: 0.4em;background-color: white;}#sk-container-id-4 div.sk-label label {font-family: monospace;font-weight: bold;display: inline-block;line-height: 1.2em;}#sk-container-id-4 div.sk-label-container {text-align: center;}#sk-container-id-4 div.sk-container {/* jupyter's `normalize.less` sets `[hidden] { display: none; }` but bootstrap.min.css set `[hidden] { display: none !important; }` so we also need the `!important` here to be able to override the default hidden behavior on the sphinx rendered scikit-learn.org. See: https://github.com/scikit-learn/scikit-learn/issues/21755 */display: inline-block !important;position: relative;}#sk-container-id-4 div.sk-text-repr-fallback {display: none;}</style><div id=\"sk-container-id-4\" class=\"sk-top-container\"><div class=\"sk-text-repr-fallback\"><pre>LinearRegression()</pre><b>In a Jupyter environment, please rerun this cell to show the HTML representation or trust the notebook. <br />On GitHub, the HTML representation is unable to render, please try loading this page with nbviewer.org.</b></div><div class=\"sk-container\" hidden><div class=\"sk-item\"><div class=\"sk-estimator sk-toggleable\"><input class=\"sk-toggleable__control sk-hidden--visually\" id=\"sk-estimator-id-4\" type=\"checkbox\" checked><label for=\"sk-estimator-id-4\" class=\"sk-toggleable__label sk-toggleable__label-arrow\">LinearRegression</label><div class=\"sk-toggleable__content\"><pre>LinearRegression()</pre></div></div></div></div></div>"
      ],
      "text/plain": [
       "LinearRegression()"
      ]
     },
     "execution_count": 162,
     "metadata": {},
     "output_type": "execute_result"
    }
   ],
   "source": [
    "#standardize the values\n",
    "from sklearn.preprocessing import StandardScaler\n",
    "scaler = StandardScaler()\n",
    "X_scaled = scaler.fit_transform(X)\n",
    "\n",
    "model = LinearRegression()\n",
    "\n",
    "# Fit the model to the standardized data\n",
    "model.fit(X_scaled, y)\n"
   ]
  },
  {
   "cell_type": "code",
   "execution_count": 163,
   "metadata": {},
   "outputs": [
    {
     "name": "stdout",
     "output_type": "stream",
     "text": [
      "['week', 'day', 'weekday']\n",
      "[  2763.27309343    449.08249896 -13868.7931668 ]\n"
     ]
    }
   ],
   "source": [
    "#coefficients of the standardized multiple regression model\n",
    "print(['week','day','weekday'])\n",
    "print(model.coef_)"
   ]
  },
  {
   "cell_type": "code",
   "execution_count": 205,
   "metadata": {},
   "outputs": [
    {
     "name": "stdout",
     "output_type": "stream",
     "text": [
      "         lag_1     lag_3     lag_4     lag_5     lag_6     lag_7  day_of_week  \\\n",
      "40        31.0   18913.0  144020.0  160294.0  154829.0  140723.0            1   \n",
      "46    160507.0   51989.0   18913.0  144020.0  160294.0  154829.0            2   \n",
      "52    201353.0      31.0   51989.0   18913.0  144020.0  160294.0            3   \n",
      "58    192287.0  160507.0      31.0   51989.0   18913.0  144020.0            4   \n",
      "64    173355.0  201353.0  160507.0      31.0   51989.0   18913.0            5   \n",
      "...        ...       ...       ...       ...       ...       ...          ...   \n",
      "1861   21677.0  177114.0  224659.0  256965.0  226832.0   48786.0            2   \n",
      "1867     119.0  117771.0  177114.0  224659.0  256965.0  226832.0            3   \n",
      "1873  144831.0   21677.0  117771.0  177114.0  224659.0  256965.0            4   \n",
      "1879  152030.0     119.0   21677.0  117771.0  177114.0  224659.0            5   \n",
      "1880  129349.0  144831.0     119.0   21677.0  117771.0  177114.0            6   \n",
      "\n",
      "      cos_day_of_week  sin_day_of_week  \n",
      "40           0.623490         0.781831  \n",
      "46          -0.222521         0.974928  \n",
      "52          -0.900969         0.433884  \n",
      "58          -0.900969        -0.433884  \n",
      "64          -0.222521        -0.974928  \n",
      "...               ...              ...  \n",
      "1861        -0.222521         0.974928  \n",
      "1867        -0.900969         0.433884  \n",
      "1873        -0.900969        -0.433884  \n",
      "1879        -0.222521        -0.974928  \n",
      "1880         0.623490        -0.781831  \n",
      "\n",
      "[334 rows x 9 columns]\n",
      "Test RMSE: 15518.806262634906\n"
     ]
    }
   ],
   "source": [
    "\n",
    "\n",
    "# Create lag features (e.g., lag 1, lag 2)\n",
    "def create_lag_features(series, lags):\n",
    "    lagged_data = pd.DataFrame()\n",
    "    for lag in range(1, lags+1):\n",
    "        lagged_data[f'lag_{lag}'] = series.shift(lag)\n",
    "    return lagged_data\n",
    "\n",
    "# Create a copy of the DataFrame for the features\n",
    "X = pd.DataFrame(index=vantaa.index).copy()  # Ensure it's a copy\n",
    "X.loc[:, 'lag_1'] = vantaa['no_of_events'].shift(1)\n",
    "X.loc[:, 'lag_3'] = vantaa['no_of_events'].shift(3)\n",
    "X.loc[:, 'lag_4'] = vantaa['no_of_events'].shift(4)\n",
    "X.loc[:, 'lag_5'] = vantaa['no_of_events'].shift(5)\n",
    "X.loc[:, 'lag_6'] = vantaa['no_of_events'].shift(6)\n",
    "X.loc[:, 'lag_7'] = vantaa['no_of_events'].shift(7)\n",
    "# Create day_of_week feature\n",
    "X['day_of_week'] = vantaa['scanning_date'].dt.day_of_week + 1\n",
    "\n",
    "# Create cyclic features for day_of_week\n",
    "X['cos_day_of_week'] = np.cos(2 * np.pi * X['day_of_week'] / 7)\n",
    "X['sin_day_of_week'] = np.sin(2 * np.pi * X['day_of_week'] / 7)\n",
    "\n",
    "# Drop NaN values after creating lag features\n",
    "X.dropna(inplace=True)\n",
    "\n",
    "print(X)\n",
    "y = vantaa['no_of_events'][7:]  # Target variable is the actual series shifted by the number of lags\n",
    "dates = vantaa['scanning_date'][7:]  # Corresponding dates for the target\n",
    "features = ['lag_1','lag_3','lag_4', 'lag_5', 'lag_6', 'lag_7', 'day_of_week', 'cos_day_of_week', 'sin_day_of_week'] \n",
    "\n",
    "# Split the data into train and test sets\n",
    "X_train, X_rest, y_train, y_rest, dates_train, dates_rest = train_test_split(\n",
    "    X, y, dates, test_size=0.25, shuffle=False\n",
    ")\n",
    "X_test, X_drop, y_test, y_drop, dates_test, dates_drop = train_test_split(\n",
    "    X_rest, y_rest, dates_rest, test_size=0.8, shuffle=False\n",
    ")\n",
    "\n",
    "# Train the model\n",
    "model = LinearRegression()\n",
    "model.fit(X_train[features], y_train)\n",
    "\n",
    "test_data = X_test.copy()  # Make a copy of the test data\n",
    "predictions = []\n",
    "\n",
    "# Recursive forecasting loop\n",
    "for i in range(len(X_test)):\n",
    "    # Select the current row of features (including lags)\n",
    "    row_data = X_test[features].iloc[i].to_frame().T  # Keep it as a DataFrame with feature names\n",
    "    \n",
    "    # Make the prediction for the current step\n",
    "    pred = model.predict(row_data)[0]\n",
    "    \n",
    "    # Append the prediction to the predictions list\n",
    "    predictions.append(pred)\n",
    "    \n",
    "    # Now, update lag_1 with this prediction for the next step\n",
    "    if i + 1 < len(X_test):\n",
    "        X_test.loc[X_test.index[i + 1], 'lag_1'] = pred  # Update lag_1 for the next day\n",
    "        \n",
    "\n",
    "# Convert predictions list to a NumPy array or DataFrame for analysis\n",
    "predictions = np.array(predictions)\n",
    "\n",
    "# Evaluate the model with the test set (ground truth vs predictions)\n",
    "mse = mean_squared_error(y_test, predictions)\n",
    "rmse = np.sqrt(mse)\n",
    "\n",
    "print(f\"Test RMSE: {rmse}\")"
   ]
  },
  {
   "cell_type": "code",
   "execution_count": 206,
   "metadata": {},
   "outputs": [
    {
     "data": {
      "text/html": [
       "<div>\n",
       "<style scoped>\n",
       "    .dataframe tbody tr th:only-of-type {\n",
       "        vertical-align: middle;\n",
       "    }\n",
       "\n",
       "    .dataframe tbody tr th {\n",
       "        vertical-align: top;\n",
       "    }\n",
       "\n",
       "    .dataframe thead th {\n",
       "        text-align: right;\n",
       "    }\n",
       "</style>\n",
       "<table border=\"1\" class=\"dataframe\">\n",
       "  <thead>\n",
       "    <tr style=\"text-align: right;\">\n",
       "      <th></th>\n",
       "      <th>lag_1</th>\n",
       "      <th>lag_3</th>\n",
       "      <th>lag_4</th>\n",
       "      <th>lag_5</th>\n",
       "      <th>lag_6</th>\n",
       "      <th>lag_7</th>\n",
       "      <th>day_of_week</th>\n",
       "      <th>cos_day_of_week</th>\n",
       "      <th>sin_day_of_week</th>\n",
       "    </tr>\n",
       "  </thead>\n",
       "  <tbody>\n",
       "    <tr>\n",
       "      <th>1429</th>\n",
       "      <td>161049.000000</td>\n",
       "      <td>172836.0</td>\n",
       "      <td>159316.0</td>\n",
       "      <td>2.0</td>\n",
       "      <td>55552.0</td>\n",
       "      <td>140013.0</td>\n",
       "      <td>5</td>\n",
       "      <td>-0.222521</td>\n",
       "      <td>-9.749279e-01</td>\n",
       "    </tr>\n",
       "    <tr>\n",
       "      <th>1431</th>\n",
       "      <td>129490.699002</td>\n",
       "      <td>168357.0</td>\n",
       "      <td>172836.0</td>\n",
       "      <td>159316.0</td>\n",
       "      <td>2.0</td>\n",
       "      <td>55552.0</td>\n",
       "      <td>6</td>\n",
       "      <td>0.623490</td>\n",
       "      <td>-7.818315e-01</td>\n",
       "    </tr>\n",
       "    <tr>\n",
       "      <th>1437</th>\n",
       "      <td>47674.354308</td>\n",
       "      <td>161049.0</td>\n",
       "      <td>168357.0</td>\n",
       "      <td>172836.0</td>\n",
       "      <td>159316.0</td>\n",
       "      <td>2.0</td>\n",
       "      <td>7</td>\n",
       "      <td>1.000000</td>\n",
       "      <td>-2.449294e-16</td>\n",
       "    </tr>\n",
       "    <tr>\n",
       "      <th>1443</th>\n",
       "      <td>-2307.537844</td>\n",
       "      <td>153489.0</td>\n",
       "      <td>161049.0</td>\n",
       "      <td>168357.0</td>\n",
       "      <td>172836.0</td>\n",
       "      <td>159316.0</td>\n",
       "      <td>1</td>\n",
       "      <td>0.623490</td>\n",
       "      <td>7.818315e-01</td>\n",
       "    </tr>\n",
       "    <tr>\n",
       "      <th>1449</th>\n",
       "      <td>143343.912716</td>\n",
       "      <td>51631.0</td>\n",
       "      <td>153489.0</td>\n",
       "      <td>161049.0</td>\n",
       "      <td>168357.0</td>\n",
       "      <td>172836.0</td>\n",
       "      <td>2</td>\n",
       "      <td>-0.222521</td>\n",
       "      <td>9.749279e-01</td>\n",
       "    </tr>\n",
       "    <tr>\n",
       "      <th>1455</th>\n",
       "      <td>160900.124504</td>\n",
       "      <td>56.0</td>\n",
       "      <td>51631.0</td>\n",
       "      <td>153489.0</td>\n",
       "      <td>161049.0</td>\n",
       "      <td>168357.0</td>\n",
       "      <td>3</td>\n",
       "      <td>-0.900969</td>\n",
       "      <td>4.338837e-01</td>\n",
       "    </tr>\n",
       "    <tr>\n",
       "      <th>1461</th>\n",
       "      <td>151750.953472</td>\n",
       "      <td>162995.0</td>\n",
       "      <td>56.0</td>\n",
       "      <td>51631.0</td>\n",
       "      <td>153489.0</td>\n",
       "      <td>161049.0</td>\n",
       "      <td>4</td>\n",
       "      <td>-0.900969</td>\n",
       "      <td>-4.338837e-01</td>\n",
       "    </tr>\n",
       "    <tr>\n",
       "      <th>1467</th>\n",
       "      <td>151530.430641</td>\n",
       "      <td>169558.0</td>\n",
       "      <td>162995.0</td>\n",
       "      <td>56.0</td>\n",
       "      <td>51631.0</td>\n",
       "      <td>153489.0</td>\n",
       "      <td>5</td>\n",
       "      <td>-0.222521</td>\n",
       "      <td>-9.749279e-01</td>\n",
       "    </tr>\n",
       "    <tr>\n",
       "      <th>1468</th>\n",
       "      <td>126676.355501</td>\n",
       "      <td>159927.0</td>\n",
       "      <td>169558.0</td>\n",
       "      <td>162995.0</td>\n",
       "      <td>56.0</td>\n",
       "      <td>51631.0</td>\n",
       "      <td>6</td>\n",
       "      <td>0.623490</td>\n",
       "      <td>-7.818315e-01</td>\n",
       "    </tr>\n",
       "    <tr>\n",
       "      <th>1473</th>\n",
       "      <td>46157.303499</td>\n",
       "      <td>166261.0</td>\n",
       "      <td>159927.0</td>\n",
       "      <td>169558.0</td>\n",
       "      <td>162995.0</td>\n",
       "      <td>56.0</td>\n",
       "      <td>7</td>\n",
       "      <td>1.000000</td>\n",
       "      <td>-2.449294e-16</td>\n",
       "    </tr>\n",
       "    <tr>\n",
       "      <th>1479</th>\n",
       "      <td>-1971.144438</td>\n",
       "      <td>153226.0</td>\n",
       "      <td>166261.0</td>\n",
       "      <td>159927.0</td>\n",
       "      <td>169558.0</td>\n",
       "      <td>162995.0</td>\n",
       "      <td>1</td>\n",
       "      <td>0.623490</td>\n",
       "      <td>7.818315e-01</td>\n",
       "    </tr>\n",
       "    <tr>\n",
       "      <th>1485</th>\n",
       "      <td>144656.768758</td>\n",
       "      <td>56994.0</td>\n",
       "      <td>153226.0</td>\n",
       "      <td>166261.0</td>\n",
       "      <td>159927.0</td>\n",
       "      <td>169558.0</td>\n",
       "      <td>2</td>\n",
       "      <td>-0.222521</td>\n",
       "      <td>9.749279e-01</td>\n",
       "    </tr>\n",
       "    <tr>\n",
       "      <th>1491</th>\n",
       "      <td>159466.178014</td>\n",
       "      <td>14.0</td>\n",
       "      <td>56994.0</td>\n",
       "      <td>153226.0</td>\n",
       "      <td>166261.0</td>\n",
       "      <td>159927.0</td>\n",
       "      <td>3</td>\n",
       "      <td>-0.900969</td>\n",
       "      <td>4.338837e-01</td>\n",
       "    </tr>\n",
       "    <tr>\n",
       "      <th>1497</th>\n",
       "      <td>152195.446472</td>\n",
       "      <td>165420.0</td>\n",
       "      <td>14.0</td>\n",
       "      <td>56994.0</td>\n",
       "      <td>153226.0</td>\n",
       "      <td>166261.0</td>\n",
       "      <td>4</td>\n",
       "      <td>-0.900969</td>\n",
       "      <td>-4.338837e-01</td>\n",
       "    </tr>\n",
       "    <tr>\n",
       "      <th>1503</th>\n",
       "      <td>150722.773647</td>\n",
       "      <td>185995.0</td>\n",
       "      <td>165420.0</td>\n",
       "      <td>14.0</td>\n",
       "      <td>56994.0</td>\n",
       "      <td>153226.0</td>\n",
       "      <td>5</td>\n",
       "      <td>-0.222521</td>\n",
       "      <td>-9.749279e-01</td>\n",
       "    </tr>\n",
       "    <tr>\n",
       "      <th>1504</th>\n",
       "      <td>127298.030058</td>\n",
       "      <td>162325.0</td>\n",
       "      <td>185995.0</td>\n",
       "      <td>165420.0</td>\n",
       "      <td>14.0</td>\n",
       "      <td>56994.0</td>\n",
       "      <td>6</td>\n",
       "      <td>0.623490</td>\n",
       "      <td>-7.818315e-01</td>\n",
       "    </tr>\n",
       "  </tbody>\n",
       "</table>\n",
       "</div>"
      ],
      "text/plain": [
       "              lag_1     lag_3     lag_4     lag_5     lag_6     lag_7  \\\n",
       "1429  161049.000000  172836.0  159316.0       2.0   55552.0  140013.0   \n",
       "1431  129490.699002  168357.0  172836.0  159316.0       2.0   55552.0   \n",
       "1437   47674.354308  161049.0  168357.0  172836.0  159316.0       2.0   \n",
       "1443   -2307.537844  153489.0  161049.0  168357.0  172836.0  159316.0   \n",
       "1449  143343.912716   51631.0  153489.0  161049.0  168357.0  172836.0   \n",
       "1455  160900.124504      56.0   51631.0  153489.0  161049.0  168357.0   \n",
       "1461  151750.953472  162995.0      56.0   51631.0  153489.0  161049.0   \n",
       "1467  151530.430641  169558.0  162995.0      56.0   51631.0  153489.0   \n",
       "1468  126676.355501  159927.0  169558.0  162995.0      56.0   51631.0   \n",
       "1473   46157.303499  166261.0  159927.0  169558.0  162995.0      56.0   \n",
       "1479   -1971.144438  153226.0  166261.0  159927.0  169558.0  162995.0   \n",
       "1485  144656.768758   56994.0  153226.0  166261.0  159927.0  169558.0   \n",
       "1491  159466.178014      14.0   56994.0  153226.0  166261.0  159927.0   \n",
       "1497  152195.446472  165420.0      14.0   56994.0  153226.0  166261.0   \n",
       "1503  150722.773647  185995.0  165420.0      14.0   56994.0  153226.0   \n",
       "1504  127298.030058  162325.0  185995.0  165420.0      14.0   56994.0   \n",
       "\n",
       "      day_of_week  cos_day_of_week  sin_day_of_week  \n",
       "1429            5        -0.222521    -9.749279e-01  \n",
       "1431            6         0.623490    -7.818315e-01  \n",
       "1437            7         1.000000    -2.449294e-16  \n",
       "1443            1         0.623490     7.818315e-01  \n",
       "1449            2        -0.222521     9.749279e-01  \n",
       "1455            3        -0.900969     4.338837e-01  \n",
       "1461            4        -0.900969    -4.338837e-01  \n",
       "1467            5        -0.222521    -9.749279e-01  \n",
       "1468            6         0.623490    -7.818315e-01  \n",
       "1473            7         1.000000    -2.449294e-16  \n",
       "1479            1         0.623490     7.818315e-01  \n",
       "1485            2        -0.222521     9.749279e-01  \n",
       "1491            3        -0.900969     4.338837e-01  \n",
       "1497            4        -0.900969    -4.338837e-01  \n",
       "1503            5        -0.222521    -9.749279e-01  \n",
       "1504            6         0.623490    -7.818315e-01  "
      ]
     },
     "execution_count": 206,
     "metadata": {},
     "output_type": "execute_result"
    }
   ],
   "source": [
    "\n",
    "X_test"
   ]
  },
  {
   "cell_type": "code",
   "execution_count": 207,
   "metadata": {},
   "outputs": [
    {
     "data": {
      "text/plain": [
       "array([129490.69900211,  47674.3543084 ,  -2307.53784374, 143343.91271593,\n",
       "       160900.12450437, 151750.95347242, 151530.43064128, 126676.35550098,\n",
       "        46157.30349933,  -1971.14443831, 144656.76875773, 159466.17801385,\n",
       "       152195.44647182, 150722.77364695, 127298.03005849,  46465.58213424])"
      ]
     },
     "execution_count": 207,
     "metadata": {},
     "output_type": "execute_result"
    }
   ],
   "source": [
    "predictions"
   ]
  },
  {
   "cell_type": "code",
   "execution_count": 208,
   "metadata": {},
   "outputs": [
    {
     "data": {
      "text/plain": [
       "1429    153489\n",
       "1431     51631\n",
       "1437        56\n",
       "1443    162995\n",
       "1449    169558\n",
       "1455    159927\n",
       "1461    166261\n",
       "1467    153226\n",
       "1468     56994\n",
       "1473        14\n",
       "1479    165420\n",
       "1485    185995\n",
       "1491    162325\n",
       "1497    149263\n",
       "1503    145319\n",
       "1504     57446\n",
       "Name: no_of_events, dtype: int64"
      ]
     },
     "execution_count": 208,
     "metadata": {},
     "output_type": "execute_result"
    }
   ],
   "source": [
    "y_test"
   ]
  },
  {
   "cell_type": "code",
   "execution_count": 202,
   "metadata": {},
   "outputs": [
    {
     "data": {
      "image/png": "[encoded data removed]",
      "text/plain": [
       "<Figure size 1000x600 with 1 Axes>"
      ]
     },
     "metadata": {},
     "output_type": "display_data"
    }
   ],
   "source": [
    "# Plot the actual vs predicted values\n",
    "plt.figure(figsize=(10, 6))\n",
    "\n",
    "# Plot actual values\n",
    "plt.plot(dates_test, y_test, label='Actual Values', color='blue', marker='o')\n",
    "\n",
    "# Plot predicted values\n",
    "plt.plot(dates_test, predictions, label='Predicted Values', color='red', linestyle='--', marker='x')\n",
    "\n",
    "# Add labels and title\n",
    "plt.xlabel('Date')\n",
    "plt.ylabel('Value')\n",
    "plt.title('Actual vs Predicted Values Over Time')\n",
    "plt.xticks(rotation=45)\n",
    "plt.legend()\n",
    "\n",
    "# Show plot\n",
    "plt.tight_layout()\n",
    "plt.show()"
   ]
  },
  {
   "cell_type": "code",
   "execution_count": 22,
   "metadata": {},
   "outputs": [],
   "source": [
    "df = df.groupby(['sorting_center_name', 'scanning_date', 'output_belt'], as_index = False)['no_of_events'].sum()"
   ]
  },
  {
   "cell_type": "code",
   "execution_count": 124,
   "metadata": {
    "scrolled": false
   },
   "outputs": [
    {
     "data": {
      "text/plain": [
       "(464.45265506897306,\n",
       " 428.37894055245465,\n",
       " [442.11,\n",
       "  489.8,\n",
       "  530.29,\n",
       "  571.02,\n",
       "  564.52,\n",
       "  521.33,\n",
       "  492.65,\n",
       "  529.17,\n",
       "  506.27,\n",
       "  506.28,\n",
       "  511.82,\n",
       "  505.72,\n",
       "  487.37,\n",
       "  474.29])"
      ]
     },
     "execution_count": 124,
     "metadata": {},
     "output_type": "execute_result"
    }
   ],
   "source": [
    "#calculate per chute\n",
    "def lingres(center,belt):\n",
    "    chute = df[(df['sorting_center_name'] == center) & (df['output_belt'] == belt)]\n",
    "    lags = 2  # You can change the number of lags\n",
    "    X = create_lag_features(chute['no_of_events'], lags)\n",
    "    X.dropna(inplace=True)\n",
    "    y = chute['no_of_events'][lags:]  # Target variable is the actual series shifted by the number of lags\n",
    "    dates = chute['scanning_date'][lags:]  # Corresponding dates for the target\n",
    "\n",
    "    # Split the data into train and test sets\n",
    "    X_train, X_rest, y_train, y_rest, dates_train, dates_rest = train_test_split(\n",
    "        X, y, dates, test_size=0.25, shuffle=False\n",
    "    )\n",
    "    X_test, X_drop, y_test, y_drop, dates_test, dates_drop = train_test_split(\n",
    "        X_rest, y_rest, dates_rest, test_size=0.8, shuffle=False\n",
    "    )\n",
    "\n",
    "    # Create and train the model\n",
    "    model = LinearRegression()\n",
    "    model.fit(X_train, y_train)\n",
    "\n",
    "    # Predict\n",
    "    y_pred = model.predict(X_test)\n",
    "\n",
    "    # Evaluate the model\n",
    "    mse = mean_squared_error(y_test, y_pred)\n",
    "    rmse = np.sqrt(mse)\n",
    "    mae = mean_absolute_error(y_test, y_pred)\n",
    "    rmse_per_day = []\n",
    "    for i in range(1,len(dates_test)):\n",
    "        rmse_per_day.append(np.round(np.sqrt(mean_squared_error(np.array(y_test)[:i],y_pred[:i])),2)) \n",
    "    return rmse, mae , rmse_per_day\n",
    "lingres('VANTAA', 91)"
   ]
  },
  {
   "cell_type": "code",
   "execution_count": 125,
   "metadata": {},
   "outputs": [
    {
     "name": "stdout",
     "output_type": "stream",
     "text": [
      "The average rmse for sorting center KUOPIO is 54.440570751707604\n",
      "The average mae for sorting center KUOPIO is 39.92033703590762\n",
      "The average rmse for sorting center LIETO is 113.07900735340162\n",
      "The average mae for sorting center LIETO is 89.51815923826976\n",
      "The average rmse for sorting center OULU is 85.56416187680705\n",
      "The average mae for sorting center OULU is 72.30007683728599\n",
      "The average rmse for sorting center SEINÄJOKI is 133.36481500477964\n",
      "The average mae for sorting center SEINÄJOKI is 98.67266352942235\n",
      "The average rmse for sorting center TAMPERE is 105.0813545622348\n",
      "The average mae for sorting center TAMPERE is 81.09063528373798\n",
      "The average rmse for sorting center VANTAA is 338.7157892202026\n",
      "The average mae for sorting center VANTAA is 286.82935258990096\n"
     ]
    }
   ],
   "source": [
    "sorting_centers = df['sorting_center_name'].unique()\n",
    "\n",
    "for c in range(len(sorting_centers)):\n",
    "    belts = df[(df['sorting_center_name'] == sorting_centers[c])]['output_belt'].unique()\n",
    "    rmse_avg = []\n",
    "    mae_avg = []\n",
    "    for b in range(len(belts)):\n",
    "        rmse_avg.append(lingres(sorting_centers[c],belts[b])[0])\n",
    "        mae_avg.append(lingres(sorting_centers[c],belts[b])[1])\n",
    "    print('The average rmse for sorting center ' + sorting_centers[c] + ' is '+ str(np.average(rmse_avg)))\n",
    "    print('The average mae for sorting center ' + sorting_centers[c] + ' is '+ str(np.average(mae_avg)))"
   ]
  },
  {
   "cell_type": "markdown",
   "metadata": {},
   "source": [
    "The next step would be to add more features to see if it improves the benchmarks."
   ]
  },
  {
   "cell_type": "code",
   "execution_count": 127,
   "metadata": {},
   "outputs": [
    {
     "data": {
      "text/plain": [
       "(162.71817356790498,\n",
       " 131.75251538122768,\n",
       " [81.86,\n",
       "  84.12,\n",
       "  73.87,\n",
       "  65.58,\n",
       "  200.3,\n",
       "  193.28,\n",
       "  182.0,\n",
       "  174.98,\n",
       "  179.71,\n",
       "  175.25,\n",
       "  172.59,\n",
       "  176.05,\n",
       "  172.78,\n",
       "  166.8])"
      ]
     },
     "execution_count": 127,
     "metadata": {},
     "output_type": "execute_result"
    }
   ],
   "source": [
    "def lingres_features(center,belt):\n",
    "    chute = df[(df['sorting_center_name'] == center) & (df['output_belt'] == belt)]\n",
    "    lags = 7  # You can change the number of lags\n",
    "    X = create_lag_features(chute['no_of_events'], lags)\n",
    "    X['day_of_week'] = df['scanning_date'].dt.day_of_week + 1\n",
    "    X['cos_day_of_week'] = np.cos(2 * np.pi * X['day_of_week'] / 7)\n",
    "    X['sin_day_of_week'] = np.sin(2 * np.pi * X['day_of_week'] / 7)\n",
    "    X['weeklag2'] = chute['no_of_events'].shift(14)\n",
    "    #print(X)\n",
    "    X.dropna(inplace=True)\n",
    "    y = chute['no_of_events'][14:]  # Target variable is the actual series shifted by the number of lags\n",
    "    dates = chute['scanning_date'][14:]  # Corresponding dates for the target\n",
    "\n",
    "    # Split the data into train and test sets\n",
    "    X_train, X_rest, y_train, y_rest, dates_train, dates_rest = train_test_split(\n",
    "        X, y, dates, test_size=0.25, shuffle=False\n",
    "    )\n",
    "    X_test, X_drop, y_test, y_drop, dates_test, dates_drop = train_test_split(\n",
    "        X_rest, y_rest, dates_rest, test_size=0.8, shuffle=False\n",
    "    )\n",
    "\n",
    "    # Create and train the model\n",
    "    model = LinearRegression()\n",
    "    model.fit(X_train, y_train)\n",
    "\n",
    "    # Predict\n",
    "    y_pred = model.predict(X_test)\n",
    "\n",
    "    # Evaluate the model\n",
    "    mse = mean_squared_error(y_test, y_pred)\n",
    "    rmse = np.sqrt(mse)\n",
    "    mae = mean_absolute_error(y_test, y_pred)\n",
    "    rmse_per_day = []\n",
    "    for i in range(1,len(dates_test)):\n",
    "        rmse_per_day.append(np.round(np.sqrt(mean_squared_error(np.array(y_test)[:i],y_pred[:i])),2)) \n",
    "    return rmse, mae , rmse_per_day\n",
    "lingres_features('VANTAA', 91)"
   ]
  },
  {
   "cell_type": "code",
   "execution_count": 128,
   "metadata": {},
   "outputs": [
    {
     "name": "stdout",
     "output_type": "stream",
     "text": [
      "The average rmse for sorting center KUOPIO is 33.18412486728776\n",
      "The average mae for sorting center KUOPIO is 26.527466265531178\n",
      "The average rmse for sorting center LIETO is 49.244913587280045\n",
      "The average mae for sorting center LIETO is 38.990486332600206\n",
      "The average rmse for sorting center OULU is 33.60010674882181\n",
      "The average mae for sorting center OULU is 26.213496938362997\n",
      "The average rmse for sorting center SEINÄJOKI is 70.98579006237061\n",
      "The average mae for sorting center SEINÄJOKI is 56.85040505266346\n",
      "The average rmse for sorting center TAMPERE is 31.33563112875571\n",
      "The average mae for sorting center TAMPERE is 24.89228072539044\n",
      "The average rmse for sorting center VANTAA is 148.59433321436754\n",
      "The average mae for sorting center VANTAA is 119.01038432882342\n"
     ]
    }
   ],
   "source": [
    "sorting_centers = df['sorting_center_name'].unique()\n",
    "\n",
    "for c in range(len(sorting_centers)):\n",
    "    belts = df[(df['sorting_center_name'] == sorting_centers[c])]['output_belt'].unique()\n",
    "    rmse_avg = []\n",
    "    mae_avg = []\n",
    "    for b in range(len(belts)):\n",
    "        rmse_avg.append(lingres_features(sorting_centers[c],belts[b])[0])\n",
    "        mae_avg.append(lingres_features(sorting_centers[c],belts[b])[1])\n",
    "    print('The average rmse for sorting center ' + sorting_centers[c] + ' is '+ str(np.average(rmse_avg)))\n",
    "    print('The average mae for sorting center ' + sorting_centers[c] + ' is '+ str(np.average(mae_avg)))"
   ]
  },
  {
   "cell_type": "markdown",
   "metadata": {},
   "source": [
    "Adding day of the week improves the results for all sorting centers.\n",
    "Then adding the cosine slightly improves, but not for Lieto.\n",
    "Best results by adding weekday, sine and cosine.\n",
    "Then investigate the number of lags. Adding more generally improves - until around 6 day-lags.\n",
    "Adding a two-week lag also slightly improves. Three-week does not."
   ]
  },
  {
   "cell_type": "code",
   "execution_count": null,
   "metadata": {},
   "outputs": [],
   "source": [
    "T"
   ]
  }
 ],
 "metadata": {
  "kernelspec": {
   "display_name": "Python 3 (ipykernel)",
   "language": "python",
   "name": "python3"
  },
  "language_info": {
   "codemirror_mode": {
    "name": "ipython",
    "version": 3
   },
   "file_extension": ".py",
   "mimetype": "text/x-python",
   "name": "python",
   "nbconvert_exporter": "python",
   "pygments_lexer": "ipython3",
   "version": "3.11.4"
  }
 },
 "nbformat": 4,
 "nbformat_minor": 2
}
