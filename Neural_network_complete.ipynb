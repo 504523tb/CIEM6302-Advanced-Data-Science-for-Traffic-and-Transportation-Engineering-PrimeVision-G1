{
 "cells": [
  {
   "cell_type": "code",
   "execution_count": 1,
   "metadata": {},
   "outputs": [],
   "source": [
    "# Load data and packages\n",
    "import CEEMDAN_LSTM as cl\n",
    "import csv\n",
    "from collections import Counter\n",
    "from datetime import datetime, timedelta\n",
    "import folium\n",
    "from joblib import Parallel, delayed\n",
    "import matplotlib.pyplot as plt\n",
    "import math\n",
    "import numpy as np\n",
    "#from EMD import EMD\n",
    "import os\n",
    "import pandas as pd\n",
    "import plotly.express as px\n",
    "import plotly.graph_objects as go\n",
    "import pmdarima as pm\n",
    "from pmdarima import auto_arima\n",
    "# import PyEMD\n",
    "# from PyEMD import EMD\n",
    "# import pywt\n",
    "import random\n",
    "from scipy.stats import boxcox\n",
    "from scipy.special import inv_boxcox\n",
    "import seaborn as sns\n",
    "from sklearn.linear_model import LinearRegression\n",
    "from sklearn.metrics import mean_squared_error\n",
    "from sklearn.model_selection import train_test_split\n",
    "from sklearn.preprocessing import StandardScaler, RobustScaler, LabelEncoder\n",
    "from statsmodels.tsa.arima.model import ARIMA\n",
    "import torch\n",
    "import torch.nn as nn\n",
    "import torch.optim as optim\n",
    "from torch.optim.lr_scheduler import CosineAnnealingLR\n",
    "from torch.utils.data import Dataset, DataLoader, TensorDataset\n",
    "from torch.utils.data import Dataset\n",
    "from torch.utils.data import DataLoader\n",
    "\n",
    "device = torch.device(\"cuda\" if torch.cuda.is_available() else \"cpu\")"
   ]
  },
  {
   "cell_type": "code",
   "execution_count": 2,
   "metadata": {},
   "outputs": [],
   "source": [
    "def fill_missing_events(df):\n",
    "    df_filled_list = []\n",
    "    \n",
    "    for center in df['sorting_center_name'].unique():\n",
    "        df_center = df[df['sorting_center_name'] == center]\n",
    "        output_belts = df_center['output_belt'].unique()\n",
    "        \n",
    "        min_date = df_center['scanning_date'].min()\n",
    "        max_date = df_center['scanning_date'].max()\n",
    "\n",
    "        all_dates = pd.date_range(start=pd.Timestamp(year=min_date.year, month=1, day=1), end=pd.Timestamp(year=max_date.year, month=max_date.month, day=1) + pd.offsets.MonthEnd(0))\n",
    "        \n",
    "        all_combinations = pd.MultiIndex.from_product(\n",
    "            [[center], all_dates, output_belts],\n",
    "            names=['sorting_center_name', 'scanning_date', 'output_belt']\n",
    "        )\n",
    "        \n",
    "        all_combinations_df = pd.DataFrame(index=all_combinations).reset_index()\n",
    "        df_filled_center = pd.merge(all_combinations_df, df_center, \n",
    "                                    on=['sorting_center_name', 'scanning_date', 'output_belt'], \n",
    "                                    how='left')\n",
    "        \n",
    "        df_filled_center['no_of_events'] = df_filled_center['no_of_events'].fillna(0.0001)\n",
    "        df_filled_list.append(df_filled_center)\n",
    "    \n",
    "    df_filled = pd.concat(df_filled_list, ignore_index=True)\n",
    "    \n",
    "    return df_filled"
   ]
  },
  {
   "cell_type": "code",
   "execution_count": 3,
   "metadata": {},
   "outputs": [],
   "source": [
    "def prepare_data(df):\n",
    "    # Data cleaning\n",
    "    print(\"Number of rows original dataset is: \" + str(df.shape[0]))\n",
    "\n",
    "    df = df.loc[df[\"event_type\"] == \"LAJ\", :]\n",
    "    df.drop(['event_location', 'input_belt', 'position'], axis=1, inplace = True)\n",
    "    df.dropna(inplace = True)\n",
    "    df['output_belt'] = df['output_belt'].astype(int)\n",
    "    df = df.groupby(['sorting_center_name', 'scanning_date', 'output_belt'], as_index = False)['no_of_events'].sum()\n",
    "    df['scanning_date'] = pd.to_datetime(df['scanning_date'])\n",
    "\n",
    "    # We add 0 events for all dates without orders \n",
    "    df = fill_missing_events(df)\n",
    "\n",
    "    print(\"Number of rows cleaned dataset is: \" + str(df.shape[0]))\n",
    "\n",
    "    # Data preparation\n",
    "    df['day'] = df['scanning_date'].dt.day\n",
    "    df['month'] = df['scanning_date'].dt.month\n",
    "    df['weekday'] = df['scanning_date'].dt.dayofweek + 1\n",
    "    df['week'] = df['scanning_date'].dt.isocalendar().week\n",
    "    df['week_of_month'] = (df['day'] - 1) // 7 + 1\n",
    "    df['yearday'] = df['scanning_date'].dt.day_of_year\n",
    "    df['weekday_sin'] = np.sin(df['weekday'] / 7 * 2 * np.pi)\n",
    "    df['weekday_cos'] = np.cos(df['weekday'] / 7 * 2 * np.pi)\n",
    "\n",
    "    return df"
   ]
  },
  {
   "cell_type": "code",
   "execution_count": 4,
   "metadata": {},
   "outputs": [
    {
     "name": "stdout",
     "output_type": "stream",
     "text": [
      "Number of rows original dataset is: 8949721\n",
      "Number of rows cleaned dataset is: 243090\n"
     ]
    }
   ],
   "source": [
    "# Data loading\n",
    "directory_path = os.getcwd() + \"\\\\Data\\\\sorting_event_volumes_2023.csv\"\n",
    "\n",
    "df = pd.read_csv(directory_path)\n",
    "df = prepare_data(df)"
   ]
  },
  {
   "cell_type": "markdown",
   "metadata": {},
   "source": [
    "## Neural network"
   ]
  },
  {
   "cell_type": "code",
   "execution_count": 32,
   "metadata": {},
   "outputs": [],
   "source": [
    "def plot_forecast(starting_date, planning_horizon, forecasts, model, train = pd.DataFrame([]), test = pd.DataFrame([])):\n",
    "    fig = go.Figure()\n",
    "    starting_date = datetime.strptime(starting_date, \"%d-%m-%Y\")\n",
    "    scanning_dates = pd.date_range(start=starting_date, periods=planning_horizon).strftime('%Y-%m-%d').tolist()\n",
    "    if test.shape[0] == 0:\n",
    "        fig.add_trace(go.Scatter(x=scanning_dates, y=forecasts[\"forecasts\"], name=\"Forecast\"))\n",
    "    if test.shape[0] > 0:\n",
    "        fig.add_trace(go.Scatter(x=train[\"scanning_date\"], y=train[\"no_of_events\"], name=\"Train\"))\n",
    "        fig.add_trace(go.Scatter(x=test[\"scanning_date\"], y=test[\"no_of_events\"], name=\"Test\"))\n",
    "        fig.add_trace(go.Scatter(x=scanning_dates, y=forecasts[\"forecasts\"], name=\"Forecast\"))\n",
    "    fig.update_layout(template=\"simple_white\", font=dict(size=18), title_text=model,\n",
    "                      width=650, title_x=0.5, height=400, xaxis_title=\"scanning_date\",\n",
    "                      yaxis_title=\"no_of_events\")\n",
    "    \n",
    "    return fig.show()"
   ]
  },
  {
   "cell_type": "code",
   "execution_count": 21,
   "metadata": {},
   "outputs": [],
   "source": [
    "class EventDataset(Dataset):\n",
    "    def __init__(self, df):\n",
    "        self.data = df  \n",
    "        one_hot_columns = [col for col in self.data.columns if col.startswith('output_belt_')]\n",
    "        feature_columns = one_hot_columns + ['day', 'weekday', 'week_of_month', 'mult']\n",
    "        self.inputs = torch.tensor(self.data[feature_columns].values.astype(int), dtype=torch.long)\n",
    "        self.targets = torch.tensor(self.data['no_of_events'].values.astype(float), dtype=torch.float32)\n",
    "        self.yearday = torch.tensor(self.data['yearday'].values.astype(int), dtype=torch.long)\n",
    "        self.output_belt = torch.tensor(self.data['output_belt'].values.astype(int), dtype=torch.long)\n",
    "\n",
    "    def __getitem__(self, idx):\n",
    "        return self.inputs[idx], self.targets[idx], self.output_belt[idx], self.yearday[idx]\n",
    "\n",
    "    def __len__(self):\n",
    "        return len(self.data)\n",
    "\n",
    "def create_dataloaders_for_df(df, planning_horizon = 14, batch_size=128):\n",
    "    train_df = df[df[\"month\"] <= 9]\n",
    "    test_df = df[(df[\"month\"] == 10) & (df[\"day\"] <= planning_horizon)]\n",
    "    train_loader = DataLoader(EventDataset(train_df), batch_size=batch_size, shuffle=True)\n",
    "    test_loader = DataLoader(EventDataset(test_df), batch_size=batch_size, shuffle=False)\n",
    "    return train_loader, test_loader"
   ]
  },
  {
   "cell_type": "code",
   "execution_count": 7,
   "metadata": {},
   "outputs": [],
   "source": [
    "class SimpleNN(nn.Module):\n",
    "    def __init__(self, input_dim):\n",
    "        super(SimpleNN, self).__init__()\n",
    "        self.fc1 = nn.Linear(input_dim, 2*128)\n",
    "        self.fc2 = nn.Linear(2*128, 2*128)\n",
    "        self.fc3 = nn.Linear(2*128, 64)\n",
    "        self.fc4 = nn.Linear(64, 64)\n",
    "        self.fc5 = nn.Linear(64, 32)\n",
    "        self.fc6 = nn.Linear(32, 1)\n",
    "\n",
    "    def swish(self, x):\n",
    "        return x * torch.sigmoid(x)\n",
    "\n",
    "    def forward(self, x):\n",
    "        x1 = self.swish(self.fc1(x))\n",
    "        x2 = self.swish(self.fc2(x1)) + x1  # Skip connection\n",
    "        x3 = self.swish(self.fc3(x2))\n",
    "        x4 = self.swish(self.fc4(x3)) + x3  # Skip connection\n",
    "        x5 = self.swish(self.fc5(x4))\n",
    "        output = self.fc6(x5)\n",
    "        return output"
   ]
  },
  {
   "cell_type": "code",
   "execution_count": 40,
   "metadata": {},
   "outputs": [
    {
     "name": "stdout",
     "output_type": "stream",
     "text": [
      "Training model for KUOPIO\n",
      "Epoch [1/100], Train Loss: 71.0702, Test Loss: 48.9738, MSE: 23135.2767, MAE: 112.6681, LR: 0.001000\n",
      "Epoch [2/100], Train Loss: 36.5677, Test Loss: 25.3170, MSE: 10674.8580, MAE: 60.8392, LR: 0.001000\n",
      "Epoch [3/100], Train Loss: 26.1408, Test Loss: 22.5960, MSE: 7870.3819, MAE: 50.8295, LR: 0.001000\n",
      "Epoch [4/100], Train Loss: 24.5190, Test Loss: 21.7298, MSE: 6768.7405, MAE: 51.1675, LR: 0.001000\n",
      "Epoch [5/100], Train Loss: 22.8728, Test Loss: 20.5479, MSE: 5955.3331, MAE: 45.7236, LR: 0.001000\n",
      "Epoch [6/100], Train Loss: 22.0687, Test Loss: 19.3983, MSE: 6339.2298, MAE: 47.7930, LR: 0.001000\n",
      "Epoch [7/100], Train Loss: 21.3988, Test Loss: 19.3163, MSE: 5881.9928, MAE: 46.2620, LR: 0.001000\n",
      "Epoch [8/100], Train Loss: 21.0941, Test Loss: 19.6800, MSE: 5990.7174, MAE: 45.7667, LR: 0.001000\n",
      "Epoch [9/100], Train Loss: 21.1856, Test Loss: 19.4098, MSE: 5605.6065, MAE: 44.3236, LR: 0.001000\n",
      "Epoch [10/100], Train Loss: 20.5708, Test Loss: 18.5512, MSE: 5432.8075, MAE: 44.0414, LR: 0.001000\n",
      "Epoch [11/100], Train Loss: 20.2781, Test Loss: 19.0099, MSE: 7355.9637, MAE: 51.4186, LR: 0.001000\n",
      "Epoch [12/100], Train Loss: 19.8012, Test Loss: 17.4510, MSE: 4689.2328, MAE: 39.4748, LR: 0.001000\n",
      "Epoch [13/100], Train Loss: 18.1668, Test Loss: 16.3632, MSE: 4929.7354, MAE: 40.7283, LR: 0.001000\n",
      "Epoch [14/100], Train Loss: 17.5635, Test Loss: 14.9841, MSE: 3747.0696, MAE: 33.2482, LR: 0.001000\n",
      "Epoch [15/100], Train Loss: 16.2522, Test Loss: 12.8588, MSE: 3177.1199, MAE: 30.0022, LR: 0.001000\n",
      "Epoch [16/100], Train Loss: 15.6971, Test Loss: 13.5442, MSE: 3109.0541, MAE: 31.7331, LR: 0.001000\n",
      "Epoch [17/100], Train Loss: 15.7270, Test Loss: 13.0363, MSE: 3360.3950, MAE: 33.0736, LR: 0.001000\n",
      "Epoch [18/100], Train Loss: 15.8875, Test Loss: 14.8900, MSE: 2242.7396, MAE: 25.7742, LR: 0.001000\n",
      "Epoch [19/100], Train Loss: 15.2284, Test Loss: 13.2943, MSE: 3362.0895, MAE: 33.8075, LR: 0.001000\n",
      "Epoch [20/100], Train Loss: 14.8780, Test Loss: 12.7476, MSE: 2161.6977, MAE: 24.8233, LR: 0.001000\n",
      "Epoch [21/100], Train Loss: 14.9342, Test Loss: 11.5086, MSE: 2421.5698, MAE: 27.4563, LR: 0.001000\n",
      "Epoch [22/100], Train Loss: 15.2413, Test Loss: 12.1701, MSE: 2229.6029, MAE: 25.1554, LR: 0.001000\n",
      "Epoch [23/100], Train Loss: 14.8891, Test Loss: 11.4098, MSE: 2212.6932, MAE: 25.8467, LR: 0.001000\n",
      "Epoch [24/100], Train Loss: 14.6219, Test Loss: 11.4245, MSE: 2202.0217, MAE: 25.6896, LR: 0.001000\n",
      "Epoch [25/100], Train Loss: 14.4005, Test Loss: 11.6971, MSE: 2155.8656, MAE: 25.2112, LR: 0.001000\n",
      "Epoch [26/100], Train Loss: 14.6894, Test Loss: 12.6243, MSE: 2819.0273, MAE: 30.9308, LR: 0.001000\n",
      "Epoch [27/100], Train Loss: 14.7885, Test Loss: 11.7558, MSE: 1986.3347, MAE: 24.2126, LR: 0.001000\n",
      "Epoch [28/100], Train Loss: 14.5656, Test Loss: 12.2935, MSE: 2008.5855, MAE: 24.6796, LR: 0.001000\n",
      "Epoch [29/100], Train Loss: 14.5208, Test Loss: 11.0216, MSE: 2222.5557, MAE: 26.6019, LR: 0.001000\n",
      "Epoch [30/100], Train Loss: 14.8148, Test Loss: 12.4645, MSE: 3312.2688, MAE: 33.4598, LR: 0.001000\n",
      "Epoch [31/100], Train Loss: 14.5556, Test Loss: 11.7951, MSE: 2046.0314, MAE: 24.8698, LR: 0.001000\n",
      "Epoch [32/100], Train Loss: 14.0876, Test Loss: 12.0749, MSE: 2138.5211, MAE: 25.7198, LR: 0.001000\n",
      "Epoch [33/100], Train Loss: 14.1429, Test Loss: 11.8893, MSE: 2128.6101, MAE: 26.0569, LR: 0.001000\n",
      "Epoch [34/100], Train Loss: 14.0169, Test Loss: 11.4596, MSE: 2157.6051, MAE: 26.4059, LR: 0.001000\n",
      "Epoch [35/100], Train Loss: 14.1795, Test Loss: 12.1331, MSE: 3057.6300, MAE: 31.3690, LR: 0.001000\n",
      "Epoch [36/100], Train Loss: 14.5957, Test Loss: 12.5714, MSE: 1959.8923, MAE: 24.2127, LR: 0.001000\n",
      "Epoch [37/100], Train Loss: 14.2692, Test Loss: 12.4986, MSE: 2098.3953, MAE: 24.9027, LR: 0.001000\n",
      "Epoch [38/100], Train Loss: 14.1366, Test Loss: 12.3119, MSE: 2103.2958, MAE: 25.1926, LR: 0.001000\n",
      "Epoch [39/100], Train Loss: 13.9274, Test Loss: 11.2677, MSE: 2088.4974, MAE: 25.5438, LR: 0.001000\n",
      "Epoch [40/100], Train Loss: 14.4170, Test Loss: 11.5998, MSE: 2164.1171, MAE: 26.0809, LR: 0.001000\n",
      "Early stopping na 40 epochs.\n"
     ]
    },
    {
     "data": {
      "image/png": "[encoded data removed]",
      "text/plain": [
       "<Figure size 1000x500 with 1 Axes>"
      ]
     },
     "metadata": {},
     "output_type": "display_data"
    },
    {
     "name": "stdout",
     "output_type": "stream",
     "text": [
      "Training model for LIETO\n",
      "Epoch [1/100], Train Loss: 111.9322, Test Loss: 82.6547, MSE: 58668.5027, MAE: 199.2356, LR: 0.001000\n",
      "Epoch [2/100], Train Loss: 70.3727, Test Loss: 48.3474, MSE: 32204.3552, MAE: 122.4170, LR: 0.001000\n",
      "Epoch [3/100], Train Loss: 45.6771, Test Loss: 41.2723, MSE: 32698.3577, MAE: 114.9257, LR: 0.001000\n",
      "Epoch [4/100], Train Loss: 40.7166, Test Loss: 36.2238, MSE: 26792.0219, MAE: 101.1372, LR: 0.001000\n",
      "Epoch [5/100], Train Loss: 38.1179, Test Loss: 34.4358, MSE: 22433.2905, MAE: 87.8456, LR: 0.001000\n",
      "Epoch [6/100], Train Loss: 37.1022, Test Loss: 33.6144, MSE: 26849.8469, MAE: 99.3975, LR: 0.001000\n",
      "Epoch [7/100], Train Loss: 36.2238, Test Loss: 32.3607, MSE: 23846.5139, MAE: 92.6119, LR: 0.001000\n",
      "Epoch [8/100], Train Loss: 34.9291, Test Loss: 31.7356, MSE: 15975.0828, MAE: 76.7558, LR: 0.001000\n",
      "Epoch [9/100], Train Loss: 35.0113, Test Loss: 31.3397, MSE: 18836.4197, MAE: 84.5089, LR: 0.001000\n",
      "Epoch [10/100], Train Loss: 35.4023, Test Loss: 35.3948, MSE: 27719.2005, MAE: 104.1843, LR: 0.001000\n",
      "Epoch [11/100], Train Loss: 35.2362, Test Loss: 35.6137, MSE: 25036.7310, MAE: 97.4731, LR: 0.001000\n",
      "Epoch [12/100], Train Loss: 33.8329, Test Loss: 34.9330, MSE: 19550.1658, MAE: 85.2805, LR: 0.001000\n",
      "Epoch [13/100], Train Loss: 33.4511, Test Loss: 32.9468, MSE: 17852.0216, MAE: 83.6174, LR: 0.001000\n",
      "Epoch [14/100], Train Loss: 32.9069, Test Loss: 31.9766, MSE: 12469.2902, MAE: 73.0288, LR: 0.001000\n",
      "Epoch [15/100], Train Loss: 34.3568, Test Loss: 33.0800, MSE: 18686.7339, MAE: 85.5111, LR: 0.001000\n",
      "Epoch [16/100], Train Loss: 33.5114, Test Loss: 32.9298, MSE: 20111.1707, MAE: 88.6900, LR: 0.001000\n",
      "Epoch [17/100], Train Loss: 33.0777, Test Loss: 32.8435, MSE: 19733.8196, MAE: 89.3507, LR: 0.001000\n",
      "Epoch [18/100], Train Loss: 32.8311, Test Loss: 32.7007, MSE: 18856.5176, MAE: 87.1773, LR: 0.001000\n",
      "Epoch [19/100], Train Loss: 33.1731, Test Loss: 30.7146, MSE: 12340.8311, MAE: 73.5080, LR: 0.001000\n",
      "Epoch [20/100], Train Loss: 32.2670, Test Loss: 29.9760, MSE: 13221.8555, MAE: 75.5733, LR: 0.001000\n",
      "Epoch [21/100], Train Loss: 32.2352, Test Loss: 32.2664, MSE: 13747.6256, MAE: 76.4662, LR: 0.001000\n",
      "Epoch [22/100], Train Loss: 32.4152, Test Loss: 33.9203, MSE: 20556.6647, MAE: 93.5214, LR: 0.001000\n",
      "Epoch [23/100], Train Loss: 31.9086, Test Loss: 30.9701, MSE: 16632.6163, MAE: 85.2767, LR: 0.001000\n",
      "Epoch [24/100], Train Loss: 31.8634, Test Loss: 29.2775, MSE: 12091.6947, MAE: 75.9344, LR: 0.001000\n",
      "Epoch [25/100], Train Loss: 31.3117, Test Loss: 29.1847, MSE: 10590.6274, MAE: 69.9653, LR: 0.001000\n",
      "Epoch [26/100], Train Loss: 29.7945, Test Loss: 27.1548, MSE: 9397.7403, MAE: 68.5130, LR: 0.001000\n",
      "Epoch [27/100], Train Loss: 28.8073, Test Loss: 25.1798, MSE: 7913.4523, MAE: 63.6924, LR: 0.001000\n",
      "Epoch [28/100], Train Loss: 27.7242, Test Loss: 19.7404, MSE: 5039.2245, MAE: 48.4405, LR: 0.001000\n",
      "Epoch [29/100], Train Loss: 26.6516, Test Loss: 21.9452, MSE: 5611.8884, MAE: 49.7760, LR: 0.001000\n",
      "Epoch [30/100], Train Loss: 25.9350, Test Loss: 21.8171, MSE: 4194.5691, MAE: 42.7401, LR: 0.001000\n",
      "Epoch [31/100], Train Loss: 25.9181, Test Loss: 20.4222, MSE: 4670.8691, MAE: 47.4179, LR: 0.001000\n",
      "Epoch [32/100], Train Loss: 25.4962, Test Loss: 23.3959, MSE: 8559.8521, MAE: 61.1614, LR: 0.001000\n",
      "Epoch [33/100], Train Loss: 25.5987, Test Loss: 22.1250, MSE: 6805.4255, MAE: 54.1015, LR: 0.001000\n",
      "Epoch [34/100], Train Loss: 25.1470, Test Loss: 21.3023, MSE: 4389.3838, MAE: 44.5720, LR: 0.001000\n",
      "Epoch [35/100], Train Loss: 25.1590, Test Loss: 20.5148, MSE: 5933.7478, MAE: 51.3525, LR: 0.001000\n",
      "Epoch [36/100], Train Loss: 25.0040, Test Loss: 21.1218, MSE: 4194.1094, MAE: 42.4256, LR: 0.001000\n",
      "Epoch [37/100], Train Loss: 25.3431, Test Loss: 20.0198, MSE: 6472.0689, MAE: 53.5305, LR: 0.001000\n",
      "Epoch [38/100], Train Loss: 24.3341, Test Loss: 19.7180, MSE: 3868.9373, MAE: 40.4308, LR: 0.001000\n",
      "Epoch [39/100], Train Loss: 24.3072, Test Loss: 19.3915, MSE: 4353.1596, MAE: 42.9434, LR: 0.001000\n",
      "Epoch [40/100], Train Loss: 24.3156, Test Loss: 18.2912, MSE: 4769.8165, MAE: 45.0037, LR: 0.001000\n",
      "Early stopping na 40 epochs.\n"
     ]
    },
    {
     "data": {
      "image/png": "[encoded data removed]",
      "text/plain": [
       "<Figure size 1000x500 with 1 Axes>"
      ]
     },
     "metadata": {},
     "output_type": "display_data"
    },
    {
     "name": "stdout",
     "output_type": "stream",
     "text": [
      "Training model for OULU\n",
      "Epoch [1/100], Train Loss: 70.5662, Test Loss: 58.9101, MSE: 25808.7712, MAE: 120.6735, LR: 0.001000\n",
      "Epoch [2/100], Train Loss: 42.3411, Test Loss: 27.7094, MSE: 12964.9321, MAE: 73.8643, LR: 0.001000\n",
      "Epoch [3/100], Train Loss: 26.6577, Test Loss: 26.1631, MSE: 7969.0452, MAE: 54.5562, LR: 0.001000\n",
      "Epoch [4/100], Train Loss: 23.5583, Test Loss: 23.0979, MSE: 6171.6398, MAE: 46.7499, LR: 0.001000\n",
      "Epoch [5/100], Train Loss: 21.8550, Test Loss: 20.1999, MSE: 6458.7743, MAE: 46.6162, LR: 0.001000\n",
      "Epoch [6/100], Train Loss: 20.2060, Test Loss: 18.9032, MSE: 5235.1863, MAE: 43.6444, LR: 0.001000\n",
      "Epoch [7/100], Train Loss: 20.5927, Test Loss: 19.0700, MSE: 5123.8548, MAE: 41.8952, LR: 0.001000\n",
      "Epoch [8/100], Train Loss: 18.7796, Test Loss: 18.3326, MSE: 5774.9066, MAE: 42.6783, LR: 0.001000\n",
      "Epoch [9/100], Train Loss: 18.4055, Test Loss: 17.3812, MSE: 3481.1788, MAE: 36.2137, LR: 0.001000\n",
      "Epoch [10/100], Train Loss: 16.8151, Test Loss: 15.8920, MSE: 2636.9529, MAE: 31.4702, LR: 0.001000\n",
      "Epoch [11/100], Train Loss: 16.0218, Test Loss: 14.0553, MSE: 2436.4974, MAE: 29.6552, LR: 0.001000\n",
      "Epoch [12/100], Train Loss: 15.2058, Test Loss: 12.3841, MSE: 1990.1700, MAE: 27.2431, LR: 0.001000\n",
      "Epoch [13/100], Train Loss: 14.9358, Test Loss: 14.2954, MSE: 2084.4485, MAE: 27.3378, LR: 0.001000\n",
      "Epoch [14/100], Train Loss: 14.7450, Test Loss: 14.2093, MSE: 1881.9137, MAE: 25.5093, LR: 0.001000\n",
      "Epoch [15/100], Train Loss: 14.6991, Test Loss: 12.6351, MSE: 1965.9322, MAE: 27.1015, LR: 0.001000\n",
      "Epoch [16/100], Train Loss: 14.1062, Test Loss: 14.9046, MSE: 1885.7765, MAE: 24.9308, LR: 0.001000\n",
      "Epoch [17/100], Train Loss: 13.6368, Test Loss: 13.9497, MSE: 1781.7171, MAE: 24.0537, LR: 0.001000\n",
      "Epoch [18/100], Train Loss: 15.0279, Test Loss: 15.3638, MSE: 1948.3237, MAE: 25.7221, LR: 0.001000\n",
      "Epoch [19/100], Train Loss: 13.8285, Test Loss: 11.9537, MSE: 1528.9557, MAE: 22.7422, LR: 0.001000\n",
      "Epoch [20/100], Train Loss: 13.6083, Test Loss: 10.9751, MSE: 1557.0316, MAE: 23.5208, LR: 0.001000\n",
      "Epoch [21/100], Train Loss: 13.2052, Test Loss: 12.4263, MSE: 1519.9753, MAE: 22.2892, LR: 0.001000\n",
      "Epoch [22/100], Train Loss: 13.1683, Test Loss: 17.6821, MSE: 2511.8213, MAE: 30.0303, LR: 0.001000\n",
      "Epoch [23/100], Train Loss: 13.4546, Test Loss: 12.7061, MSE: 1539.8980, MAE: 22.4959, LR: 0.001000\n",
      "Epoch [24/100], Train Loss: 13.4880, Test Loss: 10.9141, MSE: 1382.5182, MAE: 21.6502, LR: 0.001000\n",
      "Epoch [25/100], Train Loss: 13.0796, Test Loss: 10.6097, MSE: 1367.5249, MAE: 21.4061, LR: 0.001000\n",
      "Epoch [26/100], Train Loss: 13.0778, Test Loss: 11.7706, MSE: 1445.1185, MAE: 22.0724, LR: 0.001000\n",
      "Epoch [27/100], Train Loss: 12.6161, Test Loss: 11.4886, MSE: 1408.0246, MAE: 21.8152, LR: 0.001000\n",
      "Epoch [28/100], Train Loss: 13.1186, Test Loss: 10.6778, MSE: 1315.9556, MAE: 21.2478, LR: 0.001000\n",
      "Epoch [29/100], Train Loss: 12.7729, Test Loss: 11.5340, MSE: 1346.3309, MAE: 21.4949, LR: 0.001000\n",
      "Epoch [30/100], Train Loss: 12.4522, Test Loss: 11.4490, MSE: 1328.6434, MAE: 21.4597, LR: 0.001000\n",
      "Epoch [31/100], Train Loss: 12.5128, Test Loss: 11.4295, MSE: 1339.8049, MAE: 21.2397, LR: 0.001000\n",
      "Epoch [32/100], Train Loss: 12.7924, Test Loss: 10.8377, MSE: 1334.7218, MAE: 21.4053, LR: 0.001000\n",
      "Epoch [33/100], Train Loss: 12.1774, Test Loss: 12.6172, MSE: 1489.5475, MAE: 22.4616, LR: 0.001000\n",
      "Epoch [34/100], Train Loss: 12.2757, Test Loss: 11.6921, MSE: 1320.3995, MAE: 21.5209, LR: 0.001000\n",
      "Epoch [35/100], Train Loss: 12.3769, Test Loss: 12.2442, MSE: 1406.3023, MAE: 21.4873, LR: 0.001000\n",
      "Epoch [36/100], Train Loss: 12.5602, Test Loss: 10.2483, MSE: 1271.4852, MAE: 21.3406, LR: 0.001000\n",
      "Epoch [37/100], Train Loss: 12.1981, Test Loss: 11.0160, MSE: 1424.8216, MAE: 22.6251, LR: 0.001000\n",
      "Epoch [38/100], Train Loss: 12.5835, Test Loss: 10.0138, MSE: 1353.0907, MAE: 22.0786, LR: 0.001000\n",
      "Epoch [39/100], Train Loss: 12.3669, Test Loss: 10.7942, MSE: 1261.3028, MAE: 20.7531, LR: 0.001000\n",
      "Epoch [40/100], Train Loss: 12.3422, Test Loss: 11.0910, MSE: 1343.4303, MAE: 21.8098, LR: 0.001000\n",
      "Early stopping na 40 epochs.\n"
     ]
    },
    {
     "data": {
      "image/png": "[encoded data removed]",
      "text/plain": [
       "<Figure size 1000x500 with 1 Axes>"
      ]
     },
     "metadata": {},
     "output_type": "display_data"
    },
    {
     "name": "stdout",
     "output_type": "stream",
     "text": [
      "Training model for SEINÄJOKI\n",
      "Epoch [1/100], Train Loss: 254.6234, Test Loss: 264.0482, MSE: 259104.6836, MAE: 411.9807, LR: 0.001000\n",
      "Epoch [2/100], Train Loss: 154.4355, Test Loss: 141.8335, MSE: 128987.8418, MAE: 300.2907, LR: 0.001000\n",
      "Epoch [3/100], Train Loss: 122.8580, Test Loss: 120.5057, MSE: 115258.0508, MAE: 281.5393, LR: 0.001000\n",
      "Epoch [4/100], Train Loss: 108.7593, Test Loss: 107.0290, MSE: 82771.6680, MAE: 239.9170, LR: 0.001000\n",
      "Epoch [5/100], Train Loss: 99.8612, Test Loss: 97.2038, MSE: 66716.9873, MAE: 212.0201, LR: 0.001000\n",
      "Epoch [6/100], Train Loss: 91.1233, Test Loss: 86.6600, MSE: 57103.8242, MAE: 190.8719, LR: 0.001000\n",
      "Epoch [7/100], Train Loss: 82.1651, Test Loss: 85.2579, MSE: 48416.0166, MAE: 175.0744, LR: 0.001000\n",
      "Epoch [8/100], Train Loss: 76.4230, Test Loss: 67.5068, MSE: 49960.3535, MAE: 163.5185, LR: 0.001000\n",
      "Epoch [9/100], Train Loss: 70.9097, Test Loss: 64.3690, MSE: 43928.1909, MAE: 150.1749, LR: 0.001000\n",
      "Epoch [10/100], Train Loss: 62.4768, Test Loss: 61.3697, MSE: 42040.5767, MAE: 140.3804, LR: 0.001000\n",
      "Epoch [11/100], Train Loss: 61.4219, Test Loss: 57.9792, MSE: 40790.6221, MAE: 134.8485, LR: 0.001000\n",
      "Epoch [12/100], Train Loss: 59.7356, Test Loss: 56.3424, MSE: 33676.3293, MAE: 125.9938, LR: 0.001000\n",
      "Epoch [13/100], Train Loss: 58.0091, Test Loss: 58.0254, MSE: 30922.1631, MAE: 119.8082, LR: 0.001000\n",
      "Epoch [14/100], Train Loss: 53.2581, Test Loss: 51.0062, MSE: 34559.1719, MAE: 120.0809, LR: 0.001000\n",
      "Epoch [15/100], Train Loss: 50.9585, Test Loss: 49.9368, MSE: 28742.8127, MAE: 113.2279, LR: 0.001000\n",
      "Epoch [16/100], Train Loss: 52.6612, Test Loss: 49.4572, MSE: 26269.3477, MAE: 108.9227, LR: 0.001000\n",
      "Epoch [17/100], Train Loss: 49.7383, Test Loss: 46.9753, MSE: 38885.6792, MAE: 126.3601, LR: 0.001000\n",
      "Epoch [18/100], Train Loss: 55.5632, Test Loss: 44.2600, MSE: 33007.7087, MAE: 119.5303, LR: 0.001000\n",
      "Epoch [19/100], Train Loss: 46.3622, Test Loss: 43.6737, MSE: 28264.0869, MAE: 109.3076, LR: 0.001000\n",
      "Epoch [20/100], Train Loss: 46.6251, Test Loss: 41.9075, MSE: 25291.0513, MAE: 105.6231, LR: 0.001000\n",
      "Epoch [21/100], Train Loss: 46.0853, Test Loss: 42.2536, MSE: 25133.0269, MAE: 104.0827, LR: 0.001000\n",
      "Epoch [22/100], Train Loss: 43.6637, Test Loss: 43.4629, MSE: 22092.0281, MAE: 99.9463, LR: 0.001000\n",
      "Epoch [23/100], Train Loss: 43.3837, Test Loss: 40.2958, MSE: 22542.9231, MAE: 101.2521, LR: 0.001000\n",
      "Epoch [24/100], Train Loss: 45.0759, Test Loss: 38.3202, MSE: 21761.3188, MAE: 98.9323, LR: 0.001000\n",
      "Epoch [25/100], Train Loss: 44.2657, Test Loss: 41.1202, MSE: 30910.9485, MAE: 115.7374, LR: 0.001000\n",
      "Epoch [26/100], Train Loss: 42.0327, Test Loss: 40.7584, MSE: 24478.4390, MAE: 99.7287, LR: 0.001000\n",
      "Epoch [27/100], Train Loss: 41.9473, Test Loss: 39.0362, MSE: 15904.9448, MAE: 86.2791, LR: 0.001000\n",
      "Epoch [28/100], Train Loss: 42.9546, Test Loss: 38.9122, MSE: 18035.8225, MAE: 91.2015, LR: 0.001000\n",
      "Epoch [29/100], Train Loss: 42.8664, Test Loss: 40.8187, MSE: 18796.2051, MAE: 90.9637, LR: 0.001000\n",
      "Epoch [30/100], Train Loss: 42.4331, Test Loss: 41.4701, MSE: 13669.7786, MAE: 81.8286, LR: 0.001000\n",
      "Epoch [31/100], Train Loss: 40.4549, Test Loss: 36.4733, MSE: 14474.8787, MAE: 81.7954, LR: 0.001000\n",
      "Epoch [32/100], Train Loss: 42.5086, Test Loss: 38.4361, MSE: 12267.0447, MAE: 76.6107, LR: 0.001000\n",
      "Epoch [33/100], Train Loss: 38.1524, Test Loss: 33.4069, MSE: 13447.4678, MAE: 78.7324, LR: 0.001000\n",
      "Epoch [34/100], Train Loss: 41.4355, Test Loss: 39.6877, MSE: 12193.7900, MAE: 77.1067, LR: 0.001000\n",
      "Epoch [35/100], Train Loss: 37.9338, Test Loss: 31.7646, MSE: 10764.6829, MAE: 70.2021, LR: 0.001000\n",
      "Epoch [36/100], Train Loss: 40.2401, Test Loss: 33.5508, MSE: 18589.1564, MAE: 92.4989, LR: 0.001000\n",
      "Epoch [37/100], Train Loss: 38.3232, Test Loss: 37.9215, MSE: 25916.5529, MAE: 106.8870, LR: 0.001000\n",
      "Epoch [38/100], Train Loss: 46.1215, Test Loss: 32.5941, MSE: 14929.4199, MAE: 81.9414, LR: 0.001000\n",
      "Epoch [39/100], Train Loss: 37.3516, Test Loss: 30.7923, MSE: 10105.6904, MAE: 67.2607, LR: 0.001000\n",
      "Epoch [40/100], Train Loss: 38.5532, Test Loss: 32.0703, MSE: 8857.6382, MAE: 62.4624, LR: 0.001000\n",
      "Early stopping na 40 epochs.\n"
     ]
    },
    {
     "data": {
      "image/png": "[encoded data removed]",
      "text/plain": [
       "<Figure size 1000x500 with 1 Axes>"
      ]
     },
     "metadata": {},
     "output_type": "display_data"
    },
    {
     "name": "stdout",
     "output_type": "stream",
     "text": [
      "Training model for TAMPERE\n",
      "Epoch [1/100], Train Loss: 89.1883, Test Loss: 66.1250, MSE: 54277.4515, MAE: 134.4950, LR: 0.001000\n",
      "Epoch [2/100], Train Loss: 51.9381, Test Loss: 39.8549, MSE: 31956.7009, MAE: 76.7790, LR: 0.001000\n",
      "Epoch [3/100], Train Loss: 37.1318, Test Loss: 31.9855, MSE: 25200.7827, MAE: 64.6413, LR: 0.001000\n",
      "Epoch [4/100], Train Loss: 32.7745, Test Loss: 28.0148, MSE: 19347.6599, MAE: 55.6352, LR: 0.001000\n",
      "Epoch [5/100], Train Loss: 30.4755, Test Loss: 23.1893, MSE: 15130.2809, MAE: 54.0006, LR: 0.001000\n",
      "Epoch [6/100], Train Loss: 26.1031, Test Loss: 20.6720, MSE: 9741.5118, MAE: 41.6769, LR: 0.001000\n",
      "Epoch [7/100], Train Loss: 21.8468, Test Loss: 21.2143, MSE: 23896.9422, MAE: 64.7674, LR: 0.001000\n",
      "Epoch [8/100], Train Loss: 20.9683, Test Loss: 18.2676, MSE: 18572.6179, MAE: 54.6264, LR: 0.001000\n",
      "Epoch [9/100], Train Loss: 19.8299, Test Loss: 16.5083, MSE: 12883.2421, MAE: 34.0938, LR: 0.001000\n",
      "Epoch [10/100], Train Loss: 18.4672, Test Loss: 12.8630, MSE: 7703.2559, MAE: 29.9233, LR: 0.001000\n",
      "Epoch [11/100], Train Loss: 17.8827, Test Loss: 14.0452, MSE: 10297.2896, MAE: 36.2418, LR: 0.001000\n",
      "Epoch [12/100], Train Loss: 17.4291, Test Loss: 13.0263, MSE: 7134.8791, MAE: 27.2219, LR: 0.001000\n",
      "Epoch [13/100], Train Loss: 16.8243, Test Loss: 12.8842, MSE: 9769.1829, MAE: 38.2397, LR: 0.001000\n",
      "Epoch [14/100], Train Loss: 17.0808, Test Loss: 13.2003, MSE: 7210.4830, MAE: 27.3444, LR: 0.001000\n",
      "Epoch [15/100], Train Loss: 16.4436, Test Loss: 12.4377, MSE: 7597.9792, MAE: 28.1535, LR: 0.001000\n",
      "Epoch [16/100], Train Loss: 16.4812, Test Loss: 14.2056, MSE: 10990.6149, MAE: 40.4088, LR: 0.001000\n",
      "Epoch [17/100], Train Loss: 16.9762, Test Loss: 11.8111, MSE: 4251.5887, MAE: 24.8713, LR: 0.001000\n",
      "Epoch [18/100], Train Loss: 16.2609, Test Loss: 11.2007, MSE: 7192.9477, MAE: 29.7448, LR: 0.001000\n",
      "Epoch [19/100], Train Loss: 16.0849, Test Loss: 11.4417, MSE: 6062.4220, MAE: 26.8479, LR: 0.001000\n",
      "Epoch [20/100], Train Loss: 16.3850, Test Loss: 14.6154, MSE: 4757.2735, MAE: 27.5199, LR: 0.001000\n",
      "Epoch [21/100], Train Loss: 15.8460, Test Loss: 15.3260, MSE: 8947.0137, MAE: 29.2608, LR: 0.001000\n",
      "Epoch [22/100], Train Loss: 15.4962, Test Loss: 14.7421, MSE: 4317.1623, MAE: 27.1999, LR: 0.001000\n",
      "Epoch [23/100], Train Loss: 15.6765, Test Loss: 12.7773, MSE: 4030.7547, MAE: 24.9276, LR: 0.001000\n",
      "Epoch [24/100], Train Loss: 16.3064, Test Loss: 12.1894, MSE: 6589.2184, MAE: 30.2868, LR: 0.001000\n",
      "Epoch [25/100], Train Loss: 15.4901, Test Loss: 11.4063, MSE: 6172.2682, MAE: 27.9869, LR: 0.001000\n",
      "Epoch [26/100], Train Loss: 15.2809, Test Loss: 12.2061, MSE: 5534.3857, MAE: 25.8558, LR: 0.001000\n",
      "Epoch [27/100], Train Loss: 15.3537, Test Loss: 10.9722, MSE: 3962.9899, MAE: 27.5585, LR: 0.001000\n",
      "Epoch [28/100], Train Loss: 15.3195, Test Loss: 11.9045, MSE: 6416.8645, MAE: 30.2184, LR: 0.001000\n",
      "Epoch [29/100], Train Loss: 15.9928, Test Loss: 11.0827, MSE: 6448.4535, MAE: 31.0245, LR: 0.001000\n",
      "Epoch [30/100], Train Loss: 14.9461, Test Loss: 17.1347, MSE: 4179.4481, MAE: 29.3297, LR: 0.001000\n",
      "Epoch [31/100], Train Loss: 15.1503, Test Loss: 10.9129, MSE: 3766.9331, MAE: 25.2458, LR: 0.001000\n",
      "Epoch [32/100], Train Loss: 15.5211, Test Loss: 12.9709, MSE: 5036.2016, MAE: 26.2177, LR: 0.001000\n",
      "Epoch [33/100], Train Loss: 14.7332, Test Loss: 11.0182, MSE: 4740.3171, MAE: 27.3523, LR: 0.001000\n",
      "Epoch [34/100], Train Loss: 15.4921, Test Loss: 14.0547, MSE: 7097.4775, MAE: 28.2815, LR: 0.001000\n",
      "Epoch [35/100], Train Loss: 15.1140, Test Loss: 11.6064, MSE: 4735.8445, MAE: 26.9299, LR: 0.001000\n",
      "Epoch [36/100], Train Loss: 14.9373, Test Loss: 12.6111, MSE: 3993.9729, MAE: 25.1713, LR: 0.001000\n",
      "Epoch [37/100], Train Loss: 14.8688, Test Loss: 13.3489, MSE: 4704.8658, MAE: 26.0288, LR: 0.001000\n",
      "Epoch [38/100], Train Loss: 14.9986, Test Loss: 11.7461, MSE: 5045.9521, MAE: 26.0554, LR: 0.001000\n",
      "Epoch [39/100], Train Loss: 14.6188, Test Loss: 13.0292, MSE: 3948.0455, MAE: 25.2566, LR: 0.001000\n",
      "Epoch [40/100], Train Loss: 15.3364, Test Loss: 11.7533, MSE: 5629.0886, MAE: 27.0849, LR: 0.001000\n",
      "Early stopping na 40 epochs.\n"
     ]
    },
    {
     "data": {
      "image/png": "[encoded data removed]",
      "text/plain": [
       "<Figure size 1000x500 with 1 Axes>"
      ]
     },
     "metadata": {},
     "output_type": "display_data"
    },
    {
     "name": "stdout",
     "output_type": "stream",
     "text": [
      "Training model for VANTAA\n",
      "Epoch [1/100], Train Loss: 335.5691, Test Loss: 287.7412, MSE: 1324079.5092, MAE: 569.1865, LR: 0.001000\n",
      "Epoch [2/100], Train Loss: 205.6488, Test Loss: 168.8608, MSE: 917248.6817, MAE: 343.4099, LR: 0.001000\n",
      "Epoch [3/100], Train Loss: 145.7978, Test Loss: 149.1487, MSE: 843700.7513, MAE: 340.2142, LR: 0.001000\n",
      "Epoch [4/100], Train Loss: 132.6533, Test Loss: 134.6110, MSE: 701034.2400, MAE: 277.5802, LR: 0.001000\n",
      "Epoch [5/100], Train Loss: 122.9625, Test Loss: 124.7242, MSE: 591669.7621, MAE: 252.7177, LR: 0.001000\n",
      "Epoch [6/100], Train Loss: 113.9431, Test Loss: 117.0100, MSE: 460388.9903, MAE: 222.6178, LR: 0.001000\n",
      "Epoch [7/100], Train Loss: 100.1792, Test Loss: 98.5785, MSE: 336628.6305, MAE: 243.5365, LR: 0.001000\n",
      "Epoch [8/100], Train Loss: 90.2600, Test Loss: 86.1690, MSE: 322145.2689, MAE: 217.4129, LR: 0.001000\n",
      "Epoch [9/100], Train Loss: 87.4628, Test Loss: 83.7224, MSE: 277004.7076, MAE: 183.9685, LR: 0.001000\n",
      "Epoch [10/100], Train Loss: 85.3354, Test Loss: 82.3367, MSE: 258607.7230, MAE: 182.6007, LR: 0.001000\n",
      "Epoch [11/100], Train Loss: 79.4326, Test Loss: 88.2296, MSE: 201363.9285, MAE: 172.5301, LR: 0.001000\n",
      "Epoch [12/100], Train Loss: 81.2446, Test Loss: 85.9985, MSE: 178953.0383, MAE: 169.5891, LR: 0.001000\n",
      "Epoch [13/100], Train Loss: 76.7196, Test Loss: 101.0154, MSE: 167764.5108, MAE: 181.0581, LR: 0.001000\n",
      "Epoch [14/100], Train Loss: 77.1712, Test Loss: 88.1636, MSE: 142864.3111, MAE: 165.5156, LR: 0.001000\n",
      "Epoch [15/100], Train Loss: 75.9489, Test Loss: 76.9416, MSE: 132368.7401, MAE: 168.0831, LR: 0.001000\n",
      "Epoch [16/100], Train Loss: 75.3421, Test Loss: 77.0559, MSE: 119323.1089, MAE: 162.7608, LR: 0.001000\n",
      "Epoch [17/100], Train Loss: 72.6921, Test Loss: 80.6752, MSE: 121830.5445, MAE: 166.6891, LR: 0.001000\n",
      "Epoch [18/100], Train Loss: 74.4909, Test Loss: 78.2069, MSE: 133919.9433, MAE: 176.4526, LR: 0.001000\n",
      "Epoch [19/100], Train Loss: 73.6863, Test Loss: 79.1557, MSE: 109161.0258, MAE: 156.1808, LR: 0.001000\n",
      "Epoch [20/100], Train Loss: 70.5309, Test Loss: 87.9485, MSE: 112274.2203, MAE: 161.8075, LR: 0.001000\n",
      "Epoch [21/100], Train Loss: 75.3160, Test Loss: 76.4234, MSE: 112126.0247, MAE: 162.2966, LR: 0.001000\n",
      "Epoch [22/100], Train Loss: 71.7314, Test Loss: 85.8041, MSE: 108569.0816, MAE: 165.2141, LR: 0.001000\n",
      "Epoch [23/100], Train Loss: 69.7085, Test Loss: 79.7737, MSE: 101192.9634, MAE: 158.3516, LR: 0.001000\n",
      "Epoch [24/100], Train Loss: 71.8654, Test Loss: 76.5818, MSE: 97537.6397, MAE: 153.4990, LR: 0.001000\n",
      "Epoch [25/100], Train Loss: 69.9592, Test Loss: 73.9091, MSE: 99121.7342, MAE: 162.6418, LR: 0.001000\n",
      "Epoch [26/100], Train Loss: 70.8431, Test Loss: 77.6924, MSE: 103503.2873, MAE: 172.7223, LR: 0.001000\n",
      "Epoch [27/100], Train Loss: 69.9764, Test Loss: 80.0318, MSE: 97885.2928, MAE: 154.3663, LR: 0.001000\n",
      "Epoch [28/100], Train Loss: 70.0802, Test Loss: 76.3438, MSE: 97318.0205, MAE: 156.9202, LR: 0.001000\n",
      "Epoch [29/100], Train Loss: 68.4266, Test Loss: 79.2382, MSE: 98467.0511, MAE: 157.2186, LR: 0.001000\n",
      "Epoch [30/100], Train Loss: 68.9028, Test Loss: 75.7532, MSE: 98410.3587, MAE: 152.6244, LR: 0.001000\n",
      "Epoch [31/100], Train Loss: 69.5828, Test Loss: 76.5449, MSE: 98725.3908, MAE: 159.8336, LR: 0.001000\n",
      "Epoch [32/100], Train Loss: 68.1918, Test Loss: 76.6341, MSE: 93829.9727, MAE: 155.8448, LR: 0.001000\n",
      "Epoch [33/100], Train Loss: 68.1729, Test Loss: 84.5909, MSE: 103009.2713, MAE: 157.5411, LR: 0.001000\n",
      "Epoch [34/100], Train Loss: 68.7309, Test Loss: 79.0354, MSE: 108430.0563, MAE: 181.8084, LR: 0.001000\n",
      "Epoch [35/100], Train Loss: 68.5727, Test Loss: 72.6807, MSE: 113122.2025, MAE: 167.4231, LR: 0.001000\n",
      "Epoch [36/100], Train Loss: 67.9550, Test Loss: 78.1930, MSE: 91009.8341, MAE: 157.3712, LR: 0.001000\n",
      "Epoch [37/100], Train Loss: 66.4573, Test Loss: 74.5910, MSE: 96218.9372, MAE: 155.4970, LR: 0.001000\n",
      "Epoch [38/100], Train Loss: 66.8021, Test Loss: 78.0801, MSE: 98656.6443, MAE: 155.3435, LR: 0.001000\n",
      "Epoch [39/100], Train Loss: 68.6667, Test Loss: 75.6490, MSE: 95382.9047, MAE: 172.9655, LR: 0.001000\n",
      "Epoch [40/100], Train Loss: 67.7138, Test Loss: 76.0185, MSE: 92675.5643, MAE: 151.0777, LR: 0.001000\n",
      "Early stopping na 40 epochs.\n"
     ]
    },
    {
     "data": {
      "image/png": "[encoded data removed]",
      "text/plain": [
       "<Figure size 1000x500 with 1 Axes>"
      ]
     },
     "metadata": {},
     "output_type": "display_data"
    }
   ],
   "source": [
    "def plot_losses(train_losses, test_losses, sorting_center_name):\n",
    "    plt.figure(figsize=(10, 5))\n",
    "    plt.plot(train_losses, label='Train Loss')\n",
    "    plt.plot(test_losses, label='Test Loss')\n",
    "    plt.xlabel('Epochs')\n",
    "    plt.ylabel('Loss')\n",
    "    plt.title('Train vs Test Loss for sorting center {}'.format(sorting_center_name))\n",
    "    plt.legend()\n",
    "    plt.grid(True)\n",
    "    plt.show()\n",
    "\n",
    "class QuantileLoss(nn.Module):\n",
    "    def __init__(self, tau):\n",
    "        super(QuantileLoss, self).__init__()\n",
    "        self.tau = tau\n",
    "    \n",
    "    def forward(self, outputs, targets):\n",
    "        errors = targets - outputs\n",
    "        loss = torch.max(self.tau * errors, (self.tau - 1) * errors)\n",
    "        return loss.mean()\n",
    "tau = 0.7  # Kies een waarde voor tau (0.5 is de mediaan)\n",
    "criterion = QuantileLoss(tau=tau)\n",
    "\n",
    "def train_model(sorting_center_name, model, train_loader, test_loader, criterion, optimizer, epochs=100, patience=20, min_delta=0.1):\n",
    "    # Initialize dictionaries to store daily errors for each sorting center and output belt\n",
    "    daily_errors = {}\n",
    "\n",
    "    train_losses, test_losses = [], []\n",
    "    early_stopping_counter = 0\n",
    "    for epoch in range(epochs):\n",
    "        model.train()\n",
    "        running_loss = 0.0\n",
    "        for inputs, targets, _, _ in train_loader:\n",
    "            inputs, targets = inputs.float().to(device), targets.float().to(device)\n",
    "            optimizer.zero_grad()\n",
    "            outputs = model(inputs).squeeze()\n",
    "            loss = criterion(outputs, targets)\n",
    "            loss.backward()\n",
    "            optimizer.step()\n",
    "            running_loss += loss.item()\n",
    "        avg_train_loss = running_loss / len(train_loader)\n",
    "        train_losses.append(avg_train_loss)\n",
    "        \n",
    "        model.eval()\n",
    "        total_loss = 0.0\n",
    "        total_mse = 0.0\n",
    "        total_mae = 0.0\n",
    "\n",
    "        # Reset daily errors for each epoch\n",
    "        daily_errors = {}\n",
    "\n",
    "        with torch.no_grad():\n",
    "            for inputs, targets, output_belts, days in test_loader:\n",
    "                inputs, targets = inputs.float().to(device), targets.float().to(device)\n",
    "                outputs = model(inputs).squeeze()\n",
    "                loss = criterion(outputs, targets)\n",
    "                mse = nn.MSELoss()(outputs, targets)\n",
    "                mae = nn.L1Loss()(outputs, targets)\n",
    "                total_loss += loss.item()\n",
    "                total_mse += mse.item()\n",
    "                total_mae += mae.item()\n",
    "                \n",
    "                # Calculate and record individual errors\n",
    "                for i in range(len(targets)):\n",
    "                    actual = targets[i].item()\n",
    "                    forecast = outputs[i].item()\n",
    "                    day = days[i].item()\n",
    "                    output_belt = output_belts[i].item()\n",
    "\n",
    "                    squared_difference = (actual - forecast) ** 2\n",
    "                    absolute_difference = abs(actual - forecast)\n",
    "\n",
    "                    if day not in daily_errors:\n",
    "                        daily_errors[day] = {'mse': [], 'mae': []}\n",
    "\n",
    "                    daily_errors[day]['mse'].append(squared_difference)\n",
    "                    daily_errors[day]['mae'].append(absolute_difference)\n",
    "        \n",
    "        avg_test_loss = total_loss / len(test_loader)\n",
    "        avg_test_mse = total_mse / len(test_loader)\n",
    "        avg_test_mae = total_mae / len(test_loader)\n",
    "        test_losses.append(avg_test_loss)\n",
    "\n",
    "        current_lr = optimizer.param_groups[0]['lr']\n",
    "        \n",
    "        if sorting_center_name == \"VANTAA\":\n",
    "            print(f'Epoch [{epoch + 1}/{epochs}], Train Loss: {avg_train_loss:.4f}, Test Loss: {avg_test_loss:.4f}, '\n",
    "                f'MSE: {avg_test_mse:.4f}, MAE: {avg_test_mae:.4f}, LR: {current_lr:.6f}')\n",
    "\n",
    "        mse = {}\n",
    "        mae = {}\n",
    "        for day, errors in daily_errors.items():\n",
    "            mse[day] = sum(errors[\"mse\"]) / len(errors[\"mse\"])\n",
    "            mae[day] = sum(errors[\"mae\"]) / len(errors[\"mae\"])\n",
    "\n",
    "        # Calculate MSE, VSE, and MAE metrics across days\n",
    "        MSE_avg = sum(mse.values()) / len(mse)\n",
    "        VSE = np.var(list(mse.values()), ddof=1)\n",
    "        MAE_avg = sum(mae.values()) / len(mae)\n",
    "        \n",
    "        # Early stopping op basis van de agressievere criteria\n",
    "        if epoch >= patience:\n",
    "            if avg_test_loss > min(test_losses[-patience:]) - min_delta:\n",
    "                early_stopping_counter += 1\n",
    "            else:\n",
    "                early_stopping_counter = 0    \n",
    "            if early_stopping_counter >= patience:\n",
    "                if sorting_center_name == \"VANTAA\":\n",
    "                    print(f'Early stopping na {epoch + 1} epochs.')\n",
    "                break\n",
    "    \n",
    "    if sorting_center_name == \"KUOPIO\":\n",
    "        mode = \"w\"\n",
    "    else:\n",
    "        mode = \"a\"\n",
    "\n",
    "    with open(\"Results/results_NN.csv\", mode=mode, newline='') as file:\n",
    "        writer = csv.writer(file)\n",
    "        if mode == \"w\":\n",
    "            writer.writerow(['Sorting center', 'MSE', 'VSE', 'MAE'])\n",
    "\n",
    "        writer.writerow([sorting_center_name, MSE_avg, VSE, MAE_avg])\n",
    "\n",
    "    return model, train_losses, test_losses, daily_errors\n",
    "\n",
    "device = torch.device(\"cuda\" if torch.cuda.is_available() else \"cpu\")\n",
    "\n",
    "df_NN = df.copy()\n",
    "df_NN['mult'] = df_NN['day'] * df_NN['weekday'] * df_NN['week_of_month']\n",
    "df_NN['sum'] = df_NN['day'] + df_NN['weekday'] + df_NN['week_of_month']\n",
    "\n",
    "daily_errors = {}\n",
    "planning_horizon = 14\n",
    "\n",
    "sorting_center_names = df_NN[\"sorting_center_name\"].unique()\n",
    "start = datetime.now()\n",
    "\n",
    "# Directory to save loaders (make sure it exists or create it)\n",
    "save_dir_load = \"Data/loaders NN/\"\n",
    "save_dir_models = \"Data/models NN/\"\n",
    "\n",
    "for sorting_center_name in sorting_center_names:\n",
    "    df_sorting_center = df_NN[df_NN[\"sorting_center_name\"] == sorting_center_name]\n",
    "    one_hot_belt = pd.get_dummies(df_sorting_center['output_belt'], prefix='output_belt').astype(int)\n",
    "    df_sorting_center = pd.concat([df_sorting_center, one_hot_belt], axis=1)\n",
    "\n",
    "    train_loader, test_loader = create_dataloaders_for_df(df_sorting_center)\n",
    "    input_dim = next(iter(train_loader))[0].shape[1]\n",
    "    model = SimpleNN(input_dim).to(device)\n",
    "    optimizer = torch.optim.Adam(model.parameters(), lr=0.001)\n",
    "    \n",
    "    if sorting_center_name == \"VANTAA\":\n",
    "        print(f'Training model for {sorting_center_name}')\n",
    "    model, train_losses, test_losses, daily_errors_sorting_center = train_model(\n",
    "        sorting_center_name,\n",
    "        model,\n",
    "        train_loader,\n",
    "        test_loader,\n",
    "        criterion,\n",
    "        optimizer,\n",
    "        epochs=100,\n",
    "        patience=20,\n",
    "        min_delta=0.1\n",
    "    )\n",
    "\n",
    "    daily_errors[sorting_center_name] = daily_errors_sorting_center\n",
    "    \n",
    "    if sorting_center_name == \"VANTAA\":\n",
    "        plot_losses(train_losses, test_losses, sorting_center_name)\n",
    "\n",
    "    # Save train and test loaders\n",
    "    torch.save(train_loader, f\"{save_dir_load}{sorting_center_name}_train_loader.pth\")\n",
    "    torch.save(test_loader, f\"{save_dir_load}{sorting_center_name}_test_loader.pth\")\n",
    "\n",
    "    # Save the model's state_dict\n",
    "    torch.save(model.state_dict(), f\"{save_dir_models}{sorting_center_name}_model.pth\")\n",
    "\n",
    "daily_mse = {}\n",
    "daily_mae = {}\n",
    "\n",
    "for day in daily_errors[sorting_center_name].keys():\n",
    "    mse = 0\n",
    "    mae = 0\n",
    "    n_output_belts = 0\n",
    "    for sorting_center_name in sorting_center_names:\n",
    "        mse += sum(daily_errors[sorting_center_name][day][\"mse\"])\n",
    "        mae += sum(daily_errors[sorting_center_name][day][\"mae\"])\n",
    "        n_output_belts += len(daily_errors[sorting_center_name][day][\"mse\"])\n",
    "    daily_mse[day] = mse / n_output_belts\n",
    "    daily_mae[day] = mae / n_output_belts\n",
    "\n",
    "MSE = sum(daily_mse.values()) / len(daily_mse)\n",
    "VSE = np.var(list(daily_mse.values()), ddof=1)\n",
    "MAE = sum(daily_mae.values()) / len(daily_mae)\n",
    "\n",
    "with open(\"Results/results_NN.csv\", mode='a', newline='') as file:\n",
    "    writer = csv.writer(file)\n",
    "    writer.writerow([\"total\", MSE, VSE, MAE])\n",
    "        \n",
    "with open(\"Results/results_general.csv\", mode='a', newline='') as file:\n",
    "    writer = csv.writer(file)\n",
    "\n",
    "    end = datetime.now()\n",
    "    running_time = end - start\n",
    "\n",
    "    writer.writerow(['Neural Network', MSE, VSE, MAE, running_time])"
   ]
  },
  {
   "cell_type": "code",
   "execution_count": 23,
   "metadata": {},
   "outputs": [],
   "source": [
    "from datetime import datetime, timedelta\n",
    "\n",
    "def generate_prediction_data(start_date, planning_horizon, df_sorting_center, output_belt):\n",
    "    # Get unique output_belts and the index of the given output_belt for one-hot encoding\n",
    "    output_belts = sorted(df_sorting_center[\"output_belt\"].unique())\n",
    "    belt_index = np.where(output_belts == output_belt)[0][0]\n",
    "    \n",
    "    # Initialize one-hot encoded array for output_belt\n",
    "    one_hot_output_belt = np.zeros(len(output_belts))\n",
    "    one_hot_output_belt[belt_index] = 1  # Set the corresponding position to 1\n",
    "\n",
    "    x_data = []\n",
    "    current_date = datetime.strptime(start_date, \"%d-%m-%Y\")\n",
    "    end_date = current_date + timedelta(days=planning_horizon - 1)  # End date based on planning horizon\n",
    "    \n",
    "    while current_date <= end_date:\n",
    "        day = current_date.day  # Dag van de maand\n",
    "        weekday = current_date.isoweekday()  # Weekdag (1=maandag, 7=zondag)\n",
    "        \n",
    "        week_of_month = (current_date.day - 1) // 7 + 1\n",
    "        \n",
    "        # Calculate 'mult'\n",
    "        mult = day * weekday * week_of_month\n",
    "        \n",
    "        # Concatenate one-hot output belt with other features into a single flat array\n",
    "        x_data.append(np.concatenate((one_hot_output_belt, [day, weekday, week_of_month, mult])))\n",
    "        current_date += timedelta(days=1)  # Ga naar de volgende dag\n",
    "\n",
    "    return np.array(x_data)\n",
    "\n",
    "#def predict_and_plot_for_belt(models, loaders, df, starting_date, planning_horizon):\n",
    "def forecast_NN(starting_date, planning_horizon, df):\n",
    "    forecast_dict = {}\n",
    "    sorting_center_names = df[\"sorting_center_name\"].unique()\n",
    "\n",
    "    device = torch.device(\"cuda\" if torch.cuda.is_available() else \"cpu\")\n",
    "\n",
    "    # paths\n",
    "    save_dir_loaders = \"Data/loaders NN/\"\n",
    "    save_dir_models = \"Data/models NN/\"    \n",
    "\n",
    "    for sorting_center_name in sorting_center_names:\n",
    "        # load loaders\n",
    "        train_loader = torch.load(f\"{save_dir_loaders}{sorting_center_name}_train_loader.pth\")\n",
    "        test_loader = torch.load(f\"{save_dir_loaders}{sorting_center_name}_test_loader.pth\")\n",
    "        input_dim = next(iter(train_loader))[0].shape[1]\n",
    "\n",
    "        # load model\n",
    "        model = SimpleNN(input_dim)  # initialize the model architecture\n",
    "        model.load_state_dict(torch.load(f\"{save_dir_models}{sorting_center_name}_model.pth\"))\n",
    "        model.eval()\n",
    "\n",
    "        df_sorting_center = df[df[\"sorting_center_name\"] == sorting_center_name]\n",
    "        output_belts = df_sorting_center[\"output_belt\"].unique()\n",
    "\n",
    "        for output_belt in output_belts:\n",
    "            # Genereer predictie data\n",
    "            x_data = generate_prediction_data(starting_date, planning_horizon, df_sorting_center, output_belt)\n",
    "            x_tensor = torch.tensor(x_data).float().to(device)\n",
    "            \n",
    "            # Maak voorspellingen met het model\n",
    "            with torch.no_grad():\n",
    "                predictions = model(x_tensor).cpu().numpy().flatten()\n",
    "\n",
    "            forecasts = pd.DataFrame(predictions)  # Convert Series to DataFrame\n",
    "            forecasts.columns = ['forecasts']  # Rename the column to 'forecast\n",
    "\n",
    "            # Round forecasts\n",
    "            forecasts['forecasts'] = forecasts['forecasts'].round()\n",
    "\n",
    "            if sorting_center_name == \"VANTAA\" and output_belt in [109]:\n",
    "                plot_forecast(starting_date, planning_horizon, forecasts, \"NN\")\n",
    "\n",
    "            if sorting_center_name not in forecast_dict:\n",
    "                forecast_dict[sorting_center_name] = {}\n",
    "\n",
    "            forecast_dict[sorting_center_name][output_belt] = forecasts\n",
    "\n",
    "    return forecast_dict"
   ]
  },
  {
   "cell_type": "markdown",
   "metadata": {},
   "source": [
    "## Dashboard"
   ]
  },
  {
   "cell_type": "code",
   "execution_count": 10,
   "metadata": {},
   "outputs": [],
   "source": [
    "# Make the training functions for all models such that the training can be saved and used for prediction every time when needed\n",
    "\n",
    "def train_model(data, model):\n",
    "    data = prepare_data(data) # Ensure that data is ready for training\n",
    "\n",
    "    if model == \"Linear Regression\":\n",
    "        #train_LR(data)\n",
    "        print(\"Training is finished\")\n",
    "    elif model == \"ARIMA\":\n",
    "        #train_ARIMA(data)\n",
    "        print(\"Training is finished\")\n",
    "    elif model == \"Neural Network\":\n",
    "        #train_NN(data)\n",
    "        print(\"Training is finished\")\n",
    "    '''elif model == \"LSTM\":\n",
    "        #train_LSTM(data)\n",
    "        print(\"Training is finished\")'''"
   ]
  },
  {
   "cell_type": "code",
   "execution_count": 11,
   "metadata": {},
   "outputs": [],
   "source": [
    "def make_forecast(start_date, planning_horizon, data, model):\n",
    "    if model == \"Linear Regression\":\n",
    "        #forecast = forecast_LR(start_date, planning_horizon, data)        \n",
    "        print(\"Forecast finished\")\n",
    "    elif model == \"ARIMA\":\n",
    "        #forecast = forecast_ARIMA(start_date, planning_horizon, data)\n",
    "        print(\"Forecast finished\")\n",
    "    elif model == \"Neural Network\":\n",
    "        forecast = forecast_NN(start_date, planning_horizon, data)\n",
    "        print(\"Forecast finished\")\n",
    "    '''elif model == \"LSTM\":\n",
    "        #forecast = forecast_LSTM(start_date, planning_horizon)           # If data is needed for forecast, then add to the function\n",
    "        print(\"Forecast finished\")'''\n",
    "        \n",
    "    return forecast"
   ]
  },
  {
   "cell_type": "code",
   "execution_count": 12,
   "metadata": {},
   "outputs": [],
   "source": [
    "def save_forecast(start_date, planning_horizon, model, forecast):\n",
    "    # Convert start_date from string to datetime using the format \"DD-MM-YYYY\"\n",
    "    start_date = datetime.strptime(start_date, \"%d-%m-%Y\")\n",
    "\n",
    "    # Generate dates for the forecast period\n",
    "    dates = [(start_date + timedelta(days=day)).strftime(\"%Y-%m-%d\") for day in range(planning_horizon)]\n",
    "\n",
    "    for sorting_center_name, output_belts in forecast.items():\n",
    "        # Define the file name\n",
    "        file_name = f\"Results/forecast_{model}_{sorting_center_name}.csv\"\n",
    "\n",
    "        # Open the file for writing\n",
    "        with open(file_name, mode='w', newline='') as file:\n",
    "            writer = csv.writer(file)\n",
    "    \n",
    "            # Write the header row (Dates)\n",
    "            header = ['Output Belt'] + dates\n",
    "            writer.writerow(header)\n",
    "            \n",
    "            # Write the forecast data\n",
    "            for output_belt, forecasts in output_belts.items():\n",
    "                if isinstance(forecasts, pd.DataFrame):\n",
    "                    forecasts = forecasts.iloc[:, 0]\n",
    "                row = [output_belt] + forecasts.tolist()  # Convert forecasts to list if it's a NumPy array\n",
    "                writer.writerow(row)\n",
    "    \n",
    "    print(\"Forecasts successfully written to CSV files.\")\n"
   ]
  },
  {
   "cell_type": "code",
   "execution_count": 13,
   "metadata": {},
   "outputs": [],
   "source": [
    "def main(start_date, planning_horizon, data, model, train_indicator = False):\n",
    "    if train_indicator == True:\n",
    "        train_model(data, model)\n",
    "\n",
    "    forecast = make_forecast(start_date, planning_horizon, data, model)\n",
    "\n",
    "    save_forecast(start_date, planning_horizon, model, forecast)\n",
    "    #plot_forecast(start_date, planning_horizon, prediction, model, data)   # Currently written to plot one output belt, so process it in the prediction function of your model"
   ]
  },
  {
   "cell_type": "code",
   "execution_count": 33,
   "metadata": {},
   "outputs": [
    {
     "data": {
      "application/vnd.plotly.v1+json": {
       "config": {
        "plotlyServerURL": "https://plot.ly"
       },
       "data": [
        {
         "name": "Forecast",
         "type": "scatter",
         "x": [
          "2023-10-01",
          "2023-10-02",
          "2023-10-03",
          "2023-10-04",
          "2023-10-05",
          "2023-10-06",
          "2023-10-07",
          "2023-10-08",
          "2023-10-09",
          "2023-10-10",
          "2023-10-11",
          "2023-10-12",
          "2023-10-13",
          "2023-10-14"
         ],
         "y": [
          15,
          15560,
          15906,
          15212,
          13857,
          11882,
          3218,
          7,
          16997,
          16588,
          16215,
          15012,
          13316,
          3992
         ]
        }
       ],
       "layout": {
        "font": {
         "size": 18
        },
        "height": 400,
        "template": {
         "data": {
          "bar": [
           {
            "error_x": {
             "color": "rgb(36,36,36)"
            },
            "error_y": {
             "color": "rgb(36,36,36)"
            },
            "marker": {
             "line": {
              "color": "white",
              "width": 0.5
             },
             "pattern": {
              "fillmode": "overlay",
              "size": 10,
              "solidity": 0.2
             }
            },
            "type": "bar"
           }
          ],
          "barpolar": [
           {
            "marker": {
             "line": {
              "color": "white",
              "width": 0.5
             },
             "pattern": {
              "fillmode": "overlay",
              "size": 10,
              "solidity": 0.2
             }
            },
            "type": "barpolar"
           }
          ],
          "carpet": [
           {
            "aaxis": {
             "endlinecolor": "rgb(36,36,36)",
             "gridcolor": "white",
             "linecolor": "white",
             "minorgridcolor": "white",
             "startlinecolor": "rgb(36,36,36)"
            },
            "baxis": {
             "endlinecolor": "rgb(36,36,36)",
             "gridcolor": "white",
             "linecolor": "white",
             "minorgridcolor": "white",
             "startlinecolor": "rgb(36,36,36)"
            },
            "type": "carpet"
           }
          ],
          "choropleth": [
           {
            "colorbar": {
             "outlinewidth": 1,
             "tickcolor": "rgb(36,36,36)",
             "ticks": "outside"
            },
            "type": "choropleth"
           }
          ],
          "contour": [
           {
            "colorbar": {
             "outlinewidth": 1,
             "tickcolor": "rgb(36,36,36)",
             "ticks": "outside"
            },
            "colorscale": [
             [
              0,
              "#440154"
             ],
             [
              0.1111111111111111,
              "#482878"
             ],
             [
              0.2222222222222222,
              "#3e4989"
             ],
             [
              0.3333333333333333,
              "#31688e"
             ],
             [
              0.4444444444444444,
              "#26828e"
             ],
             [
              0.5555555555555556,
              "#1f9e89"
             ],
             [
              0.6666666666666666,
              "#35b779"
             ],
             [
              0.7777777777777778,
              "#6ece58"
             ],
             [
              0.8888888888888888,
              "#b5de2b"
             ],
             [
              1,
              "#fde725"
             ]
            ],
            "type": "contour"
           }
          ],
          "contourcarpet": [
           {
            "colorbar": {
             "outlinewidth": 1,
             "tickcolor": "rgb(36,36,36)",
             "ticks": "outside"
            },
            "type": "contourcarpet"
           }
          ],
          "heatmap": [
           {
            "colorbar": {
             "outlinewidth": 1,
             "tickcolor": "rgb(36,36,36)",
             "ticks": "outside"
            },
            "colorscale": [
             [
              0,
              "#440154"
             ],
             [
              0.1111111111111111,
              "#482878"
             ],
             [
              0.2222222222222222,
              "#3e4989"
             ],
             [
              0.3333333333333333,
              "#31688e"
             ],
             [
              0.4444444444444444,
              "#26828e"
             ],
             [
              0.5555555555555556,
              "#1f9e89"
             ],
             [
              0.6666666666666666,
              "#35b779"
             ],
             [
              0.7777777777777778,
              "#6ece58"
             ],
             [
              0.8888888888888888,
              "#b5de2b"
             ],
             [
              1,
              "#fde725"
             ]
            ],
            "type": "heatmap"
           }
          ],
          "heatmapgl": [
           {
            "colorbar": {
             "outlinewidth": 1,
             "tickcolor": "rgb(36,36,36)",
             "ticks": "outside"
            },
            "colorscale": [
             [
              0,
              "#440154"
             ],
             [
              0.1111111111111111,
              "#482878"
             ],
             [
              0.2222222222222222,
              "#3e4989"
             ],
             [
              0.3333333333333333,
              "#31688e"
             ],
             [
              0.4444444444444444,
              "#26828e"
             ],
             [
              0.5555555555555556,
              "#1f9e89"
             ],
             [
              0.6666666666666666,
              "#35b779"
             ],
             [
              0.7777777777777778,
              "#6ece58"
             ],
             [
              0.8888888888888888,
              "#b5de2b"
             ],
             [
              1,
              "#fde725"
             ]
            ],
            "type": "heatmapgl"
           }
          ],
          "histogram": [
           {
            "marker": {
             "line": {
              "color": "white",
              "width": 0.6
             }
            },
            "type": "histogram"
           }
          ],
          "histogram2d": [
           {
            "colorbar": {
             "outlinewidth": 1,
             "tickcolor": "rgb(36,36,36)",
             "ticks": "outside"
            },
            "colorscale": [
             [
              0,
              "#440154"
             ],
             [
              0.1111111111111111,
              "#482878"
             ],
             [
              0.2222222222222222,
              "#3e4989"
             ],
             [
              0.3333333333333333,
              "#31688e"
             ],
             [
              0.4444444444444444,
              "#26828e"
             ],
             [
              0.5555555555555556,
              "#1f9e89"
             ],
             [
              0.6666666666666666,
              "#35b779"
             ],
             [
              0.7777777777777778,
              "#6ece58"
             ],
             [
              0.8888888888888888,
              "#b5de2b"
             ],
             [
              1,
              "#fde725"
             ]
            ],
            "type": "histogram2d"
           }
          ],
          "histogram2dcontour": [
           {
            "colorbar": {
             "outlinewidth": 1,
             "tickcolor": "rgb(36,36,36)",
             "ticks": "outside"
            },
            "colorscale": [
             [
              0,
              "#440154"
             ],
             [
              0.1111111111111111,
              "#482878"
             ],
             [
              0.2222222222222222,
              "#3e4989"
             ],
             [
              0.3333333333333333,
              "#31688e"
             ],
             [
              0.4444444444444444,
              "#26828e"
             ],
             [
              0.5555555555555556,
              "#1f9e89"
             ],
             [
              0.6666666666666666,
              "#35b779"
             ],
             [
              0.7777777777777778,
              "#6ece58"
             ],
             [
              0.8888888888888888,
              "#b5de2b"
             ],
             [
              1,
              "#fde725"
             ]
            ],
            "type": "histogram2dcontour"
           }
          ],
          "mesh3d": [
           {
            "colorbar": {
             "outlinewidth": 1,
             "tickcolor": "rgb(36,36,36)",
             "ticks": "outside"
            },
            "type": "mesh3d"
           }
          ],
          "parcoords": [
           {
            "line": {
             "colorbar": {
              "outlinewidth": 1,
              "tickcolor": "rgb(36,36,36)",
              "ticks": "outside"
             }
            },
            "type": "parcoords"
           }
          ],
          "pie": [
           {
            "automargin": true,
            "type": "pie"
           }
          ],
          "scatter": [
           {
            "fillpattern": {
             "fillmode": "overlay",
             "size": 10,
             "solidity": 0.2
            },
            "type": "scatter"
           }
          ],
          "scatter3d": [
           {
            "line": {
             "colorbar": {
              "outlinewidth": 1,
              "tickcolor": "rgb(36,36,36)",
              "ticks": "outside"
             }
            },
            "marker": {
             "colorbar": {
              "outlinewidth": 1,
              "tickcolor": "rgb(36,36,36)",
              "ticks": "outside"
             }
            },
            "type": "scatter3d"
           }
          ],
          "scattercarpet": [
           {
            "marker": {
             "colorbar": {
              "outlinewidth": 1,
              "tickcolor": "rgb(36,36,36)",
              "ticks": "outside"
             }
            },
            "type": "scattercarpet"
           }
          ],
          "scattergeo": [
           {
            "marker": {
             "colorbar": {
              "outlinewidth": 1,
              "tickcolor": "rgb(36,36,36)",
              "ticks": "outside"
             }
            },
            "type": "scattergeo"
           }
          ],
          "scattergl": [
           {
            "marker": {
             "colorbar": {
              "outlinewidth": 1,
              "tickcolor": "rgb(36,36,36)",
              "ticks": "outside"
             }
            },
            "type": "scattergl"
           }
          ],
          "scattermapbox": [
           {
            "marker": {
             "colorbar": {
              "outlinewidth": 1,
              "tickcolor": "rgb(36,36,36)",
              "ticks": "outside"
             }
            },
            "type": "scattermapbox"
           }
          ],
          "scatterpolar": [
           {
            "marker": {
             "colorbar": {
              "outlinewidth": 1,
              "tickcolor": "rgb(36,36,36)",
              "ticks": "outside"
             }
            },
            "type": "scatterpolar"
           }
          ],
          "scatterpolargl": [
           {
            "marker": {
             "colorbar": {
              "outlinewidth": 1,
              "tickcolor": "rgb(36,36,36)",
              "ticks": "outside"
             }
            },
            "type": "scatterpolargl"
           }
          ],
          "scatterternary": [
           {
            "marker": {
             "colorbar": {
              "outlinewidth": 1,
              "tickcolor": "rgb(36,36,36)",
              "ticks": "outside"
             }
            },
            "type": "scatterternary"
           }
          ],
          "surface": [
           {
            "colorbar": {
             "outlinewidth": 1,
             "tickcolor": "rgb(36,36,36)",
             "ticks": "outside"
            },
            "colorscale": [
             [
              0,
              "#440154"
             ],
             [
              0.1111111111111111,
              "#482878"
             ],
             [
              0.2222222222222222,
              "#3e4989"
             ],
             [
              0.3333333333333333,
              "#31688e"
             ],
             [
              0.4444444444444444,
              "#26828e"
             ],
             [
              0.5555555555555556,
              "#1f9e89"
             ],
             [
              0.6666666666666666,
              "#35b779"
             ],
             [
              0.7777777777777778,
              "#6ece58"
             ],
             [
              0.8888888888888888,
              "#b5de2b"
             ],
             [
              1,
              "#fde725"
             ]
            ],
            "type": "surface"
           }
          ],
          "table": [
           {
            "cells": {
             "fill": {
              "color": "rgb(237,237,237)"
             },
             "line": {
              "color": "white"
             }
            },
            "header": {
             "fill": {
              "color": "rgb(217,217,217)"
             },
             "line": {
              "color": "white"
             }
            },
            "type": "table"
           }
          ]
         },
         "layout": {
          "annotationdefaults": {
           "arrowhead": 0,
           "arrowwidth": 1
          },
          "autotypenumbers": "strict",
          "coloraxis": {
           "colorbar": {
            "outlinewidth": 1,
            "tickcolor": "rgb(36,36,36)",
            "ticks": "outside"
           }
          },
          "colorscale": {
           "diverging": [
            [
             0,
             "rgb(103,0,31)"
            ],
            [
             0.1,
             "rgb(178,24,43)"
            ],
            [
             0.2,
             "rgb(214,96,77)"
            ],
            [
             0.3,
             "rgb(244,165,130)"
            ],
            [
             0.4,
             "rgb(253,219,199)"
            ],
            [
             0.5,
             "rgb(247,247,247)"
            ],
            [
             0.6,
             "rgb(209,229,240)"
            ],
            [
             0.7,
             "rgb(146,197,222)"
            ],
            [
             0.8,
             "rgb(67,147,195)"
            ],
            [
             0.9,
             "rgb(33,102,172)"
            ],
            [
             1,
             "rgb(5,48,97)"
            ]
           ],
           "sequential": [
            [
             0,
             "#440154"
            ],
            [
             0.1111111111111111,
             "#482878"
            ],
            [
             0.2222222222222222,
             "#3e4989"
            ],
            [
             0.3333333333333333,
             "#31688e"
            ],
            [
             0.4444444444444444,
             "#26828e"
            ],
            [
             0.5555555555555556,
             "#1f9e89"
            ],
            [
             0.6666666666666666,
             "#35b779"
            ],
            [
             0.7777777777777778,
             "#6ece58"
            ],
            [
             0.8888888888888888,
             "#b5de2b"
            ],
            [
             1,
             "#fde725"
            ]
           ],
           "sequentialminus": [
            [
             0,
             "#440154"
            ],
            [
             0.1111111111111111,
             "#482878"
            ],
            [
             0.2222222222222222,
             "#3e4989"
            ],
            [
             0.3333333333333333,
             "#31688e"
            ],
            [
             0.4444444444444444,
             "#26828e"
            ],
            [
             0.5555555555555556,
             "#1f9e89"
            ],
            [
             0.6666666666666666,
             "#35b779"
            ],
            [
             0.7777777777777778,
             "#6ece58"
            ],
            [
             0.8888888888888888,
             "#b5de2b"
            ],
            [
             1,
             "#fde725"
            ]
           ]
          },
          "colorway": [
           "#1F77B4",
           "#FF7F0E",
           "#2CA02C",
           "#D62728",
           "#9467BD",
           "#8C564B",
           "#E377C2",
           "#7F7F7F",
           "#BCBD22",
           "#17BECF"
          ],
          "font": {
           "color": "rgb(36,36,36)"
          },
          "geo": {
           "bgcolor": "white",
           "lakecolor": "white",
           "landcolor": "white",
           "showlakes": true,
           "showland": true,
           "subunitcolor": "white"
          },
          "hoverlabel": {
           "align": "left"
          },
          "hovermode": "closest",
          "mapbox": {
           "style": "light"
          },
          "paper_bgcolor": "white",
          "plot_bgcolor": "white",
          "polar": {
           "angularaxis": {
            "gridcolor": "rgb(232,232,232)",
            "linecolor": "rgb(36,36,36)",
            "showgrid": false,
            "showline": true,
            "ticks": "outside"
           },
           "bgcolor": "white",
           "radialaxis": {
            "gridcolor": "rgb(232,232,232)",
            "linecolor": "rgb(36,36,36)",
            "showgrid": false,
            "showline": true,
            "ticks": "outside"
           }
          },
          "scene": {
           "xaxis": {
            "backgroundcolor": "white",
            "gridcolor": "rgb(232,232,232)",
            "gridwidth": 2,
            "linecolor": "rgb(36,36,36)",
            "showbackground": true,
            "showgrid": false,
            "showline": true,
            "ticks": "outside",
            "zeroline": false,
            "zerolinecolor": "rgb(36,36,36)"
           },
           "yaxis": {
            "backgroundcolor": "white",
            "gridcolor": "rgb(232,232,232)",
            "gridwidth": 2,
            "linecolor": "rgb(36,36,36)",
            "showbackground": true,
            "showgrid": false,
            "showline": true,
            "ticks": "outside",
            "zeroline": false,
            "zerolinecolor": "rgb(36,36,36)"
           },
           "zaxis": {
            "backgroundcolor": "white",
            "gridcolor": "rgb(232,232,232)",
            "gridwidth": 2,
            "linecolor": "rgb(36,36,36)",
            "showbackground": true,
            "showgrid": false,
            "showline": true,
            "ticks": "outside",
            "zeroline": false,
            "zerolinecolor": "rgb(36,36,36)"
           }
          },
          "shapedefaults": {
           "fillcolor": "black",
           "line": {
            "width": 0
           },
           "opacity": 0.3
          },
          "ternary": {
           "aaxis": {
            "gridcolor": "rgb(232,232,232)",
            "linecolor": "rgb(36,36,36)",
            "showgrid": false,
            "showline": true,
            "ticks": "outside"
           },
           "baxis": {
            "gridcolor": "rgb(232,232,232)",
            "linecolor": "rgb(36,36,36)",
            "showgrid": false,
            "showline": true,
            "ticks": "outside"
           },
           "bgcolor": "white",
           "caxis": {
            "gridcolor": "rgb(232,232,232)",
            "linecolor": "rgb(36,36,36)",
            "showgrid": false,
            "showline": true,
            "ticks": "outside"
           }
          },
          "title": {
           "x": 0.05
          },
          "xaxis": {
           "automargin": true,
           "gridcolor": "rgb(232,232,232)",
           "linecolor": "rgb(36,36,36)",
           "showgrid": false,
           "showline": true,
           "ticks": "outside",
           "title": {
            "standoff": 15
           },
           "zeroline": false,
           "zerolinecolor": "rgb(36,36,36)"
          },
          "yaxis": {
           "automargin": true,
           "gridcolor": "rgb(232,232,232)",
           "linecolor": "rgb(36,36,36)",
           "showgrid": false,
           "showline": true,
           "ticks": "outside",
           "title": {
            "standoff": 15
           },
           "zeroline": false,
           "zerolinecolor": "rgb(36,36,36)"
          }
         }
        },
        "title": {
         "text": "NN",
         "x": 0.5
        },
        "width": 650,
        "xaxis": {
         "title": {
          "text": "scanning_date"
         }
        },
        "yaxis": {
         "title": {
          "text": "no_of_events"
         }
        }
       }
      }
     },
     "metadata": {},
     "output_type": "display_data"
    },
    {
     "name": "stdout",
     "output_type": "stream",
     "text": [
      "Forecast finished\n",
      "Forecasts successfully written to CSV files.\n"
     ]
    }
   ],
   "source": [
    "# Main\n",
    "directory_path = os.getcwd() + \"\\\\Data\\\\sorting_event_volumes_2023.csv\"\n",
    "df_forecast = df.copy()\n",
    "\n",
    "# Input\n",
    "start_date = \"01-10-2023\"                           # When does the planning horizon start\n",
    "planning_horizon = 14                               # How long is the planning horizon\n",
    "data = df_forecast[df_forecast[\"month\"] <= 9]       # Always needed since some models need it for prediction\n",
    "model = \"Neural Network\"                                     # Which model do you want to use, options are Linear Regression, ARIMA and Neural Network \n",
    "train_indicator = False                             # Optional, if you want to train the model\n",
    "\n",
    "main(start_date, planning_horizon, data, model)"
   ]
  }
 ],
 "metadata": {
  "kernelspec": {
   "display_name": "Python 3",
   "language": "python",
   "name": "python3"
  },
  "language_info": {
   "codemirror_mode": {
    "name": "ipython",
    "version": 3
   },
   "file_extension": ".py",
   "mimetype": "text/x-python",
   "name": "python",
   "nbconvert_exporter": "python",
   "pygments_lexer": "ipython3",
   "version": "3.12.1"
  }
 },
 "nbformat": 4,
 "nbformat_minor": 2
}
