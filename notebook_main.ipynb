{
 "cells": [
  {
   "cell_type": "markdown",
   "id": "5075eb04",
   "metadata": {},
   "source": [
    "## Data loading"
   ]
  },
  {
   "cell_type": "code",
   "execution_count": 2,
   "metadata": {
    "ExecuteTime": {
     "end_time": "2024-09-29T20:06:56.827760Z",
     "start_time": "2024-09-29T20:06:56.739362500Z"
    }
   },
   "outputs": [
    {
     "ename": "FileNotFoundError",
     "evalue": "[Errno 2] No such file or directory: 'D:\\\\Sun Dexin\\\\Documents\\\\CIEM6302-Advanced-Data-Science-for-Traffic-and-Transportation-Engineering-PrimeVision-G1\\\\Data\\\\sorting_event_volumes_2023.csv'",
     "output_type": "error",
     "traceback": [
      "\u001B[1;31m---------------------------------------------------------------------------\u001B[0m",
      "\u001B[1;31mFileNotFoundError\u001B[0m                         Traceback (most recent call last)",
      "Cell \u001B[1;32mIn[2], line 9\u001B[0m\n\u001B[0;32m      5\u001B[0m \u001B[38;5;28;01mimport\u001B[39;00m \u001B[38;5;21;01mmatplotlib\u001B[39;00m\u001B[38;5;21;01m.\u001B[39;00m\u001B[38;5;21;01mpyplot\u001B[39;00m \u001B[38;5;28;01mas\u001B[39;00m \u001B[38;5;21;01mplt\u001B[39;00m\n\u001B[0;32m      7\u001B[0m directory_path \u001B[38;5;241m=\u001B[39m os\u001B[38;5;241m.\u001B[39mgetcwd() \u001B[38;5;241m+\u001B[39m \u001B[38;5;124m\"\u001B[39m\u001B[38;5;130;01m\\\\\u001B[39;00m\u001B[38;5;124mData\u001B[39m\u001B[38;5;130;01m\\\\\u001B[39;00m\u001B[38;5;124msorting_event_volumes_2023.csv\u001B[39m\u001B[38;5;124m\"\u001B[39m\n\u001B[1;32m----> 9\u001B[0m df \u001B[38;5;241m=\u001B[39m pd\u001B[38;5;241m.\u001B[39mread_csv(directory_path)\n",
      "File \u001B[1;32mE:\\PYT\\Lib\\site-packages\\pandas\\util\\_decorators.py:211\u001B[0m, in \u001B[0;36mdeprecate_kwarg.<locals>._deprecate_kwarg.<locals>.wrapper\u001B[1;34m(*args, **kwargs)\u001B[0m\n\u001B[0;32m    209\u001B[0m     \u001B[38;5;28;01melse\u001B[39;00m:\n\u001B[0;32m    210\u001B[0m         kwargs[new_arg_name] \u001B[38;5;241m=\u001B[39m new_arg_value\n\u001B[1;32m--> 211\u001B[0m \u001B[38;5;28;01mreturn\u001B[39;00m func(\u001B[38;5;241m*\u001B[39margs, \u001B[38;5;241m*\u001B[39m\u001B[38;5;241m*\u001B[39mkwargs)\n",
      "File \u001B[1;32mE:\\PYT\\Lib\\site-packages\\pandas\\util\\_decorators.py:331\u001B[0m, in \u001B[0;36mdeprecate_nonkeyword_arguments.<locals>.decorate.<locals>.wrapper\u001B[1;34m(*args, **kwargs)\u001B[0m\n\u001B[0;32m    325\u001B[0m \u001B[38;5;28;01mif\u001B[39;00m \u001B[38;5;28mlen\u001B[39m(args) \u001B[38;5;241m>\u001B[39m num_allow_args:\n\u001B[0;32m    326\u001B[0m     warnings\u001B[38;5;241m.\u001B[39mwarn(\n\u001B[0;32m    327\u001B[0m         msg\u001B[38;5;241m.\u001B[39mformat(arguments\u001B[38;5;241m=\u001B[39m_format_argument_list(allow_args)),\n\u001B[0;32m    328\u001B[0m         \u001B[38;5;167;01mFutureWarning\u001B[39;00m,\n\u001B[0;32m    329\u001B[0m         stacklevel\u001B[38;5;241m=\u001B[39mfind_stack_level(),\n\u001B[0;32m    330\u001B[0m     )\n\u001B[1;32m--> 331\u001B[0m \u001B[38;5;28;01mreturn\u001B[39;00m func(\u001B[38;5;241m*\u001B[39margs, \u001B[38;5;241m*\u001B[39m\u001B[38;5;241m*\u001B[39mkwargs)\n",
      "File \u001B[1;32mE:\\PYT\\Lib\\site-packages\\pandas\\io\\parsers\\readers.py:950\u001B[0m, in \u001B[0;36mread_csv\u001B[1;34m(filepath_or_buffer, sep, delimiter, header, names, index_col, usecols, squeeze, prefix, mangle_dupe_cols, dtype, engine, converters, true_values, false_values, skipinitialspace, skiprows, skipfooter, nrows, na_values, keep_default_na, na_filter, verbose, skip_blank_lines, parse_dates, infer_datetime_format, keep_date_col, date_parser, dayfirst, cache_dates, iterator, chunksize, compression, thousands, decimal, lineterminator, quotechar, quoting, doublequote, escapechar, comment, encoding, encoding_errors, dialect, error_bad_lines, warn_bad_lines, on_bad_lines, delim_whitespace, low_memory, memory_map, float_precision, storage_options)\u001B[0m\n\u001B[0;32m    935\u001B[0m kwds_defaults \u001B[38;5;241m=\u001B[39m _refine_defaults_read(\n\u001B[0;32m    936\u001B[0m     dialect,\n\u001B[0;32m    937\u001B[0m     delimiter,\n\u001B[1;32m   (...)\u001B[0m\n\u001B[0;32m    946\u001B[0m     defaults\u001B[38;5;241m=\u001B[39m{\u001B[38;5;124m\"\u001B[39m\u001B[38;5;124mdelimiter\u001B[39m\u001B[38;5;124m\"\u001B[39m: \u001B[38;5;124m\"\u001B[39m\u001B[38;5;124m,\u001B[39m\u001B[38;5;124m\"\u001B[39m},\n\u001B[0;32m    947\u001B[0m )\n\u001B[0;32m    948\u001B[0m kwds\u001B[38;5;241m.\u001B[39mupdate(kwds_defaults)\n\u001B[1;32m--> 950\u001B[0m \u001B[38;5;28;01mreturn\u001B[39;00m _read(filepath_or_buffer, kwds)\n",
      "File \u001B[1;32mE:\\PYT\\Lib\\site-packages\\pandas\\io\\parsers\\readers.py:605\u001B[0m, in \u001B[0;36m_read\u001B[1;34m(filepath_or_buffer, kwds)\u001B[0m\n\u001B[0;32m    602\u001B[0m _validate_names(kwds\u001B[38;5;241m.\u001B[39mget(\u001B[38;5;124m\"\u001B[39m\u001B[38;5;124mnames\u001B[39m\u001B[38;5;124m\"\u001B[39m, \u001B[38;5;28;01mNone\u001B[39;00m))\n\u001B[0;32m    604\u001B[0m \u001B[38;5;66;03m# Create the parser.\u001B[39;00m\n\u001B[1;32m--> 605\u001B[0m parser \u001B[38;5;241m=\u001B[39m TextFileReader(filepath_or_buffer, \u001B[38;5;241m*\u001B[39m\u001B[38;5;241m*\u001B[39mkwds)\n\u001B[0;32m    607\u001B[0m \u001B[38;5;28;01mif\u001B[39;00m chunksize \u001B[38;5;129;01mor\u001B[39;00m iterator:\n\u001B[0;32m    608\u001B[0m     \u001B[38;5;28;01mreturn\u001B[39;00m parser\n",
      "File \u001B[1;32mE:\\PYT\\Lib\\site-packages\\pandas\\io\\parsers\\readers.py:1442\u001B[0m, in \u001B[0;36mTextFileReader.__init__\u001B[1;34m(self, f, engine, **kwds)\u001B[0m\n\u001B[0;32m   1439\u001B[0m     \u001B[38;5;28mself\u001B[39m\u001B[38;5;241m.\u001B[39moptions[\u001B[38;5;124m\"\u001B[39m\u001B[38;5;124mhas_index_names\u001B[39m\u001B[38;5;124m\"\u001B[39m] \u001B[38;5;241m=\u001B[39m kwds[\u001B[38;5;124m\"\u001B[39m\u001B[38;5;124mhas_index_names\u001B[39m\u001B[38;5;124m\"\u001B[39m]\n\u001B[0;32m   1441\u001B[0m \u001B[38;5;28mself\u001B[39m\u001B[38;5;241m.\u001B[39mhandles: IOHandles \u001B[38;5;241m|\u001B[39m \u001B[38;5;28;01mNone\u001B[39;00m \u001B[38;5;241m=\u001B[39m \u001B[38;5;28;01mNone\u001B[39;00m\n\u001B[1;32m-> 1442\u001B[0m \u001B[38;5;28mself\u001B[39m\u001B[38;5;241m.\u001B[39m_engine \u001B[38;5;241m=\u001B[39m \u001B[38;5;28mself\u001B[39m\u001B[38;5;241m.\u001B[39m_make_engine(f, \u001B[38;5;28mself\u001B[39m\u001B[38;5;241m.\u001B[39mengine)\n",
      "File \u001B[1;32mE:\\PYT\\Lib\\site-packages\\pandas\\io\\parsers\\readers.py:1735\u001B[0m, in \u001B[0;36mTextFileReader._make_engine\u001B[1;34m(self, f, engine)\u001B[0m\n\u001B[0;32m   1733\u001B[0m     \u001B[38;5;28;01mif\u001B[39;00m \u001B[38;5;124m\"\u001B[39m\u001B[38;5;124mb\u001B[39m\u001B[38;5;124m\"\u001B[39m \u001B[38;5;129;01mnot\u001B[39;00m \u001B[38;5;129;01min\u001B[39;00m mode:\n\u001B[0;32m   1734\u001B[0m         mode \u001B[38;5;241m+\u001B[39m\u001B[38;5;241m=\u001B[39m \u001B[38;5;124m\"\u001B[39m\u001B[38;5;124mb\u001B[39m\u001B[38;5;124m\"\u001B[39m\n\u001B[1;32m-> 1735\u001B[0m \u001B[38;5;28mself\u001B[39m\u001B[38;5;241m.\u001B[39mhandles \u001B[38;5;241m=\u001B[39m get_handle(\n\u001B[0;32m   1736\u001B[0m     f,\n\u001B[0;32m   1737\u001B[0m     mode,\n\u001B[0;32m   1738\u001B[0m     encoding\u001B[38;5;241m=\u001B[39m\u001B[38;5;28mself\u001B[39m\u001B[38;5;241m.\u001B[39moptions\u001B[38;5;241m.\u001B[39mget(\u001B[38;5;124m\"\u001B[39m\u001B[38;5;124mencoding\u001B[39m\u001B[38;5;124m\"\u001B[39m, \u001B[38;5;28;01mNone\u001B[39;00m),\n\u001B[0;32m   1739\u001B[0m     compression\u001B[38;5;241m=\u001B[39m\u001B[38;5;28mself\u001B[39m\u001B[38;5;241m.\u001B[39moptions\u001B[38;5;241m.\u001B[39mget(\u001B[38;5;124m\"\u001B[39m\u001B[38;5;124mcompression\u001B[39m\u001B[38;5;124m\"\u001B[39m, \u001B[38;5;28;01mNone\u001B[39;00m),\n\u001B[0;32m   1740\u001B[0m     memory_map\u001B[38;5;241m=\u001B[39m\u001B[38;5;28mself\u001B[39m\u001B[38;5;241m.\u001B[39moptions\u001B[38;5;241m.\u001B[39mget(\u001B[38;5;124m\"\u001B[39m\u001B[38;5;124mmemory_map\u001B[39m\u001B[38;5;124m\"\u001B[39m, \u001B[38;5;28;01mFalse\u001B[39;00m),\n\u001B[0;32m   1741\u001B[0m     is_text\u001B[38;5;241m=\u001B[39mis_text,\n\u001B[0;32m   1742\u001B[0m     errors\u001B[38;5;241m=\u001B[39m\u001B[38;5;28mself\u001B[39m\u001B[38;5;241m.\u001B[39moptions\u001B[38;5;241m.\u001B[39mget(\u001B[38;5;124m\"\u001B[39m\u001B[38;5;124mencoding_errors\u001B[39m\u001B[38;5;124m\"\u001B[39m, \u001B[38;5;124m\"\u001B[39m\u001B[38;5;124mstrict\u001B[39m\u001B[38;5;124m\"\u001B[39m),\n\u001B[0;32m   1743\u001B[0m     storage_options\u001B[38;5;241m=\u001B[39m\u001B[38;5;28mself\u001B[39m\u001B[38;5;241m.\u001B[39moptions\u001B[38;5;241m.\u001B[39mget(\u001B[38;5;124m\"\u001B[39m\u001B[38;5;124mstorage_options\u001B[39m\u001B[38;5;124m\"\u001B[39m, \u001B[38;5;28;01mNone\u001B[39;00m),\n\u001B[0;32m   1744\u001B[0m )\n\u001B[0;32m   1745\u001B[0m \u001B[38;5;28;01massert\u001B[39;00m \u001B[38;5;28mself\u001B[39m\u001B[38;5;241m.\u001B[39mhandles \u001B[38;5;129;01mis\u001B[39;00m \u001B[38;5;129;01mnot\u001B[39;00m \u001B[38;5;28;01mNone\u001B[39;00m\n\u001B[0;32m   1746\u001B[0m f \u001B[38;5;241m=\u001B[39m \u001B[38;5;28mself\u001B[39m\u001B[38;5;241m.\u001B[39mhandles\u001B[38;5;241m.\u001B[39mhandle\n",
      "File \u001B[1;32mE:\\PYT\\Lib\\site-packages\\pandas\\io\\common.py:856\u001B[0m, in \u001B[0;36mget_handle\u001B[1;34m(path_or_buf, mode, encoding, compression, memory_map, is_text, errors, storage_options)\u001B[0m\n\u001B[0;32m    851\u001B[0m \u001B[38;5;28;01melif\u001B[39;00m \u001B[38;5;28misinstance\u001B[39m(handle, \u001B[38;5;28mstr\u001B[39m):\n\u001B[0;32m    852\u001B[0m     \u001B[38;5;66;03m# Check whether the filename is to be opened in binary mode.\u001B[39;00m\n\u001B[0;32m    853\u001B[0m     \u001B[38;5;66;03m# Binary mode does not support 'encoding' and 'newline'.\u001B[39;00m\n\u001B[0;32m    854\u001B[0m     \u001B[38;5;28;01mif\u001B[39;00m ioargs\u001B[38;5;241m.\u001B[39mencoding \u001B[38;5;129;01mand\u001B[39;00m \u001B[38;5;124m\"\u001B[39m\u001B[38;5;124mb\u001B[39m\u001B[38;5;124m\"\u001B[39m \u001B[38;5;129;01mnot\u001B[39;00m \u001B[38;5;129;01min\u001B[39;00m ioargs\u001B[38;5;241m.\u001B[39mmode:\n\u001B[0;32m    855\u001B[0m         \u001B[38;5;66;03m# Encoding\u001B[39;00m\n\u001B[1;32m--> 856\u001B[0m         handle \u001B[38;5;241m=\u001B[39m \u001B[38;5;28mopen\u001B[39m(\n\u001B[0;32m    857\u001B[0m             handle,\n\u001B[0;32m    858\u001B[0m             ioargs\u001B[38;5;241m.\u001B[39mmode,\n\u001B[0;32m    859\u001B[0m             encoding\u001B[38;5;241m=\u001B[39mioargs\u001B[38;5;241m.\u001B[39mencoding,\n\u001B[0;32m    860\u001B[0m             errors\u001B[38;5;241m=\u001B[39merrors,\n\u001B[0;32m    861\u001B[0m             newline\u001B[38;5;241m=\u001B[39m\u001B[38;5;124m\"\u001B[39m\u001B[38;5;124m\"\u001B[39m,\n\u001B[0;32m    862\u001B[0m         )\n\u001B[0;32m    863\u001B[0m     \u001B[38;5;28;01melse\u001B[39;00m:\n\u001B[0;32m    864\u001B[0m         \u001B[38;5;66;03m# Binary mode\u001B[39;00m\n\u001B[0;32m    865\u001B[0m         handle \u001B[38;5;241m=\u001B[39m \u001B[38;5;28mopen\u001B[39m(handle, ioargs\u001B[38;5;241m.\u001B[39mmode)\n",
      "\u001B[1;31mFileNotFoundError\u001B[0m: [Errno 2] No such file or directory: 'D:\\\\Sun Dexin\\\\Documents\\\\CIEM6302-Advanced-Data-Science-for-Traffic-and-Transportation-Engineering-PrimeVision-G1\\\\Data\\\\sorting_event_volumes_2023.csv'"
     ]
    }
   ],
   "source": [
    "# Load data and packages\n",
    "import os\n",
    "import pandas as pd\n",
    "import numpy as np\n",
    "import matplotlib.pyplot as plt\n",
    "\n",
    "directory_path = os.getcwd() + \"\\\\Data\\\\sorting_event_volumes_2023.csv\"\n",
    "\n",
    "df = pd.read_csv(directory_path)"
   ],
   "id": "8551110e7f3394cd"
  },
  {
   "cell_type": "markdown",
   "id": "8bc9f920",
   "metadata": {},
   "source": [
    "## Data cleaning"
   ]
  },
  {
   "cell_type": "code",
   "execution_count": null,
   "id": "a2c121f6",
   "metadata": {
    "ExecuteTime": {
     "end_time": "2024-09-29T20:06:56.828759300Z",
     "start_time": "2024-09-29T20:06:56.828759300Z"
    }
   },
   "outputs": [],
   "source": [
    "# Data cleaning\n",
    "print(\"Number of rows original dataset is: \" + str(df.shape[0]))\n",
    "\n",
    "df = df.loc[df[\"event_type\"] == \"LAJ\", :]\n",
    "df.drop(['event_location', 'input_belt', 'position'], axis=1, inplace = True)\n",
    "df.dropna(inplace = True)\n",
    "df['output_belt'] = df['output_belt'].astype(int)\n",
    "df = df.groupby(['sorting_center_name', 'scanning_date', 'output_belt'], as_index = False)['no_of_events'].sum()\n",
    "df['scanning_date'] = pd.to_datetime(df['scanning_date'])\n",
    "\n",
    "print(\"Number of rows cleaned dataset is: \" + str(df.shape[0]))"
   ]
  },
  {
   "cell_type": "markdown",
   "id": "579550c6",
   "metadata": {},
   "source": [
    "## Data preparation"
   ]
  },
  {
   "cell_type": "code",
   "execution_count": null,
   "id": "21528160",
   "metadata": {
    "ExecuteTime": {
     "end_time": "2024-09-29T20:06:56.850121200Z",
     "start_time": "2024-09-29T20:06:56.829759500Z"
    }
   },
   "outputs": [],
   "source": [
    "# Data preparation\n",
    "df['day'] = df['scanning_date'].dt.day\n",
    "df['month'] = df['scanning_date'].dt.month\n",
    "df['weekday'] = df['scanning_date'].dt.day_of_week + 1\n",
    "df['week'] = df['scanning_date'].dt.day_of_year // 7 + 1\n",
    "\n",
    "sorting_center_names = df[\"sorting_center_name\"].unique()\n",
    "df[\"sorting_center_name\"].value_counts()\n",
    "print(sorting_center_names)"
   ]
  },
  {
   "cell_type": "markdown",
   "id": "b42c4b96",
   "metadata": {},
   "source": [
    "## Descriptive statistics"
   ]
  },
  {
   "cell_type": "code",
   "execution_count": null,
   "id": "9596e7ec",
   "metadata": {
    "ExecuteTime": {
     "start_time": "2024-09-29T20:06:56.831833Z"
    }
   },
   "outputs": [],
   "source": [
    "# Descriptive statistics (Jelmer)"
   ]
  },
  {
   "cell_type": "markdown",
   "id": "85d3fa96",
   "metadata": {},
   "source": [
    "## Data visualizations"
   ]
  },
  {
   "cell_type": "markdown",
   "id": "bf6dc58f",
   "metadata": {},
   "source": [
    "### Aggregate demand planning horizon"
   ]
  },
  {
   "cell_type": "code",
   "execution_count": null,
   "id": "cb001792",
   "metadata": {
    "ExecuteTime": {
     "start_time": "2024-09-29T20:06:56.831833Z"
    }
   },
   "outputs": [],
   "source": [
    "# Aggregate demand planning horizon (Mats)"
   ]
  },
  {
   "cell_type": "markdown",
   "id": "8f35729f",
   "metadata": {},
   "source": [
    "### Boxplots"
   ]
  },
  {
   "cell_type": "code",
   "execution_count": null,
   "id": "4cd9a704",
   "metadata": {
    "ExecuteTime": {
     "start_time": "2024-09-29T20:06:56.834329500Z"
    }
   },
   "outputs": [],
   "source": [
    "# Boxplots (Jelmer)\n",
    "\n",
    "# Yearly\n",
    "\n",
    "# Monthly\n",
    "\n",
    "# Weekday\n",
    "\n",
    "# Yearly per sorting center"
   ]
  },
  {
   "cell_type": "markdown",
   "id": "e31f569b",
   "metadata": {},
   "source": [
    "### Day of the month"
   ]
  },
  {
   "cell_type": "code",
   "execution_count": null,
   "id": "21c32d87",
   "metadata": {
    "ExecuteTime": {
     "start_time": "2024-09-29T20:06:56.836329100Z"
    }
   },
   "outputs": [],
   "source": [
    "# Day of the month (Sun)\n",
    "\n",
    "# Define the number of valid months for each day of the month\n",
    "# Days 1-28 appear in all 12 months, day 29 appears in 11 months (February excluded),\n",
    "# day 30 appears in 11 months (February excluded), and day 31 appears in only 7 months\n",
    "# (months missing the 31st: April, June, September, November).\n",
    "valid_months = {day: 12 for day in range(1, 29)}  # Days 1-28 in all 12 months\n",
    "valid_months[29] = 11  # Day 29 appears in 11 months\n",
    "valid_months[30] = 11  # Day 30 appears in 11 months\n",
    "valid_months[31] = 7   # Day 31 appears in 7 months\n",
    "\n",
    "# Create an empty DataFrame to store the results for each sorting center\n",
    "result = pd.DataFrame()\n",
    "\n",
    "# Get the list of unique sorting centers from the dataset\n",
    "sorting_centers = df['sorting_center_name'].unique()\n",
    "\n",
    "# For each sorting center, calculate the normalized order volume percentage\n",
    "for center in sorting_centers:\n",
    "    # Filter the data for the current sorting center\n",
    "    center_data = df[df['sorting_center_name'] == center]\n",
    "\n",
    "    # Group the data by day of the month and sum the total number of events (orders)\n",
    "    daily_volume = center_data.groupby('day')['no_of_events'].sum()\n",
    "\n",
    "    # Normalize the daily volume by dividing by the number of months in which each day exists\n",
    "    # This adjusts for the fact that not all days (like the 29th, 30th, 31st) occur in every month\n",
    "    normalized_volume = daily_volume / daily_volume.index.map(valid_months)\n",
    "\n",
    "    # Calculate the percentage of normalized volume for each day\n",
    "    # by dividing by the total normalized volume for the sorting center\n",
    "    total_normalized_volume = normalized_volume.sum()  # Sum of normalized volumes for all days\n",
    "    percentage = (normalized_volume / total_normalized_volume) * 100  # Percentage for each day\n",
    "\n",
    "    # Store the percentage for this sorting center in the result DataFrame\n",
    "    result[center] = percentage\n",
    "\n",
    "# Plot the data for all days (1-31) in a single bar chart\n",
    "result.plot(kind='bar', figsize=(12, 6), width=0.8)\n",
    "\n",
    "# Adjust the legend, moving it outside of the plot to avoid overlap with the bars\n",
    "plt.legend(title='Sorting Center', bbox_to_anchor=(1.05, 1), loc='upper left', prop={'size': 8})\n",
    "\n",
    "# Add a title and labels to the plot\n",
    "plt.title('Order Volume Distribution for Days 1 to 31')\n",
    "plt.xlabel('Day of Month')\n",
    "plt.ylabel('Percentage of Normalized Volume')\n",
    "\n",
    "# Set the x-axis labels to be horizontal for better readability\n",
    "plt.xticks(rotation=0)\n",
    "\n",
    "# Adjust the layout so that the legend is placed outside the plot\n",
    "plt.tight_layout(rect=[0, 0, 0.85, 1])  # Adjust the layout to leave space for the legend\n",
    "plt.show()"
   ]
  },
  {
   "cell_type": "markdown",
   "id": "8ede41d2",
   "metadata": {},
   "source": [
    "### Per chute"
   ]
  },
  {
   "cell_type": "code",
   "execution_count": null,
   "id": "26d64320",
   "metadata": {
    "ExecuteTime": {
     "start_time": "2024-09-29T20:06:56.839328900Z"
    }
   },
   "outputs": [],
   "source": [
    "# Per chute (Tom)\n",
    "\n",
    "def chute_demand_per_weekday(df, sorting_centers):\n",
    "    fig, axes = plt.subplots(2, 3, figsize=(18, 12), sharey=True)\n",
    "    \n",
    "    axes = axes.flatten()\n",
    "\n",
    "    for i, sorting_center_name in enumerate(sorting_centers):\n",
    "        df_sc = df[df[\"sorting_center_name\"] == sorting_center_name]\n",
    "        chutes = df_sc[\"output_belt\"].unique()\n",
    "\n",
    "        chute_PH_share_dict = {}\n",
    "\n",
    "        for chute in chutes:\n",
    "            df_chute = df_sc[df_sc[\"output_belt\"] == chute]\n",
    "            if df_chute.shape[0] <= 183:\n",
    "                continue\n",
    "            chute_PH_share_dict[chute] = df_chute.groupby('weekday')['no_of_events'].sum() / df_chute['no_of_events'].sum() * 100\n",
    "\n",
    "        ax = axes[i]\n",
    "        for chute, PH_data in chute_PH_share_dict.items():\n",
    "            ax.plot(PH_data.index, PH_data.values, marker='o', label=chute)\n",
    "\n",
    "        ax.set_xlabel('Weekday (1 = Monday, 7 = Sunday)')\n",
    "        if i % 3 == 0:\n",
    "            ax.set_ylabel('Percentage of Deliveries (%)')\n",
    "        ax.set_title(f'{sorting_center_name} Distribution')\n",
    "\n",
    "        ax.grid(True)\n",
    "\n",
    "    plt.suptitle('Delivery Distribution per Weekday Across Chutes for Multiple Sorting Centers', y=1.03)\n",
    "    plt.tight_layout()\n",
    "\n",
    "    # Show the plot\n",
    "    plt.show()"
   ]
  },
  {
   "cell_type": "code",
   "execution_count": null,
   "id": "a07d146e",
   "metadata": {
    "ExecuteTime": {
     "start_time": "2024-09-29T20:06:56.840835100Z"
    }
   },
   "outputs": [],
   "source": [
    "\n",
    "def chute_demand_planning_horizon_per_month(df, sorting_centers):\n",
    "    fig, axes = plt.subplots(2, 3, figsize=(18, 12), sharey=True)\n",
    "    \n",
    "    axes = axes.flatten()\n",
    "\n",
    "    for i, sorting_center_name in enumerate(sorting_centers):\n",
    "        df_sc = df[df[\"sorting_center_name\"] == sorting_center_name]\n",
    "        chutes = df_sc[\"output_belt\"].unique()\n",
    "\n",
    "        chute_PH_share_dict = {}\n",
    "\n",
    "        for chute in chutes:\n",
    "            df_chute = df_sc[df_sc[\"output_belt\"] == chute]\n",
    "            if df_chute.shape[0] <= 183:\n",
    "                continue\n",
    "            chute_PH_share_dict[chute] = df_chute.groupby('month')['no_of_events'].sum() / df_chute['no_of_events'].sum() * 100\n",
    "\n",
    "        ax = axes[i]\n",
    "        for chute, PH_data in chute_PH_share_dict.items():\n",
    "            ax.plot(PH_data.index, PH_data.values, marker='o', label=chute)\n",
    "\n",
    "        ax.set_xlabel('Planning horizon')\n",
    "        if i % 3 == 0:\n",
    "            ax.set_ylabel('Percentage of Deliveries (%)')\n",
    "        ax.set_title(f'{sorting_center_name} Distribution')\n",
    "\n",
    "        ax.grid(True)\n",
    "\n",
    "    plt.suptitle('Delivery Distribution over Planning Horizon Across Chutes for Multiple Sorting Centers', y=1.03)\n",
    "    plt.tight_layout()\n",
    "\n",
    "    # Show the plot\n",
    "    plt.show()"
   ]
  },
  {
   "cell_type": "code",
   "execution_count": null,
   "id": "e5dfe045",
   "metadata": {
    "ExecuteTime": {
     "start_time": "2024-09-29T20:06:56.841839500Z"
    }
   },
   "outputs": [],
   "source": [
    "chute_demand_per_weekday(df, sorting_center_names)\n",
    "chute_demand_planning_horizon_per_month(df, sorting_center_names)"
   ]
  }
 ],
 "metadata": {
  "kernelspec": {
   "display_name": "Python 3",
   "language": "python",
   "name": "python3"
  },
  "language_info": {
   "codemirror_mode": {
    "name": "ipython",
    "version": 3
   },
   "file_extension": ".py",
   "mimetype": "text/x-python",
   "name": "python",
   "nbconvert_exporter": "python",
   "pygments_lexer": "ipython3",
   "version": "3.12.1"
  }
 },
 "nbformat": 4,
 "nbformat_minor": 5
}
