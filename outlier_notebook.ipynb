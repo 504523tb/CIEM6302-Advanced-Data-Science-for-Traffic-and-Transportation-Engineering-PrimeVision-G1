{
 "cells": [
  {
   "cell_type": "code",
   "execution_count": null,
   "metadata": {
    "vscode": {
     "languageId": "plaintext"
    }
   },
   "outputs": [],
   "source": [
    "# Load data and packages\n",
    "import os\n",
    "import pandas as pd\n",
    "import numpy as np\n",
    "import matplotlib.pyplot as plt\n",
    "import plotly.express as px\n",
    "import plotly.graph_objects as go\n",
    "from plotly.subplots import make_subplots\n",
    "import seaborn as sns\n",
    "import datetime as datetime\n",
    "from collections import Counter\n",
    "import time\n",
    "import seaborn as sns\n",
    "from scipy import stats\n",
    "import plotly.figure_factory as ff\n",
    "from sklearn.model_selection import train_test_split\n",
    "from sklearn import preprocessing\n",
    "from sklearn.metrics import classification_report\n",
    "from sklearn.linear_model import LinearRegression\n",
    "from sklearn.metrics import mean_squared_error\n",
    "\n",
    "directory_path = os.getcwd() + \"\\\\Data\\\\sorting_event_volumes_2023.csv\"\n",
    "\n",
    "df = pd.read_csv(directory_path)"
   ]
  },
  {
   "cell_type": "code",
   "execution_count": null,
   "metadata": {
    "vscode": {
     "languageId": "plaintext"
    }
   },
   "outputs": [],
   "source": [
    "def fill_missing_events(df):\n",
    "    df_filled_list = []\n",
    "    \n",
    "    for center in df['sorting_center_name'].unique():\n",
    "        df_center = df[df['sorting_center_name'] == center]\n",
    "        output_belts = df_center['output_belt'].unique()\n",
    "        \n",
    "        all_dates = pd.date_range(start=df_center['scanning_date'].min(), end=df_center['scanning_date'].max())\n",
    "        \n",
    "        all_combinations = pd.MultiIndex.from_product(\n",
    "            [[center], all_dates, output_belts],\n",
    "            names=['sorting_center_name', 'scanning_date', 'output_belt']\n",
    "        )\n",
    "        \n",
    "        all_combinations_df = pd.DataFrame(index=all_combinations).reset_index()\n",
    "        df_filled_center = pd.merge(all_combinations_df, df_center, \n",
    "                                    on=['sorting_center_name', 'scanning_date', 'output_belt'], \n",
    "                                    how='left')\n",
    "        \n",
    "        df_filled_center['no_of_events'] = df_filled_center['no_of_events'].fillna(0.0001)\n",
    "        df_filled_list.append(df_filled_center)\n",
    "    \n",
    "    df_filled = pd.concat(df_filled_list, ignore_index=True)\n",
    "    \n",
    "    return df_filled"
   ]
  },
  {
   "cell_type": "code",
   "execution_count": null,
   "metadata": {
    "vscode": {
     "languageId": "plaintext"
    }
   },
   "outputs": [],
   "source": [
    "# Data cleaning\n",
    "print(\"Number of rows original dataset is: \" + str(df.shape[0]))\n",
    "\n",
    "df = df.loc[df[\"event_type\"] == \"LAJ\", :]\n",
    "df.drop(['event_location', 'input_belt', 'position'], axis=1, inplace = True)\n",
    "df.dropna(inplace = True)\n",
    "df['output_belt'] = df['output_belt'].astype(int)\n",
    "df = df.groupby(['sorting_center_name', 'scanning_date', 'output_belt'], as_index = False)['no_of_events'].sum()\n",
    "df['scanning_date'] = pd.to_datetime(df['scanning_date'])\n",
    "df = fill_missing_events(df)\n",
    "\n",
    "print(\"Number of rows cleaned dataset is: \" + str(df.shape[0]))"
   ]
  },
  {
   "cell_type": "code",
   "execution_count": null,
   "metadata": {
    "vscode": {
     "languageId": "plaintext"
    }
   },
   "outputs": [],
   "source": [
    "# Data preparation\n",
    "df['day'] = df['scanning_date'].dt.day\n",
    "#df['month'] = df['scanning_date'].dt.month\n",
    "df['weekday'] = df['scanning_date'].dt.dayofweek + 1\n",
    "df['week'] = df['scanning_date'].dt.isocalendar().week\n",
    "df['week_of_month'] = (df['day'] - 1) // 7 + 1\n",
    "#df['yearday'] = df['scanning_date'].dt.day_of_year\n",
    "#df['yearday_sin'] = np.sin(df['yearday'] / 7 * 2 * np.pi)\n",
    "#df['yearday_cos'] = np.cos(df['yearday'] / 7 * 2 * np.pi)\n",
    "\n",
    "sorting_center_names = df[\"sorting_center_name\"].unique()\n",
    "df[\"sorting_center_name\"].value_counts()"
   ]
  },
  {
   "cell_type": "code",
   "execution_count": null,
   "metadata": {
    "vscode": {
     "languageId": "plaintext"
    }
   },
   "outputs": [],
   "source": [
    "# Descriptive statistics (Jelmer)\n",
    "\n",
    "# For analysis exclude the null events\n",
    "filtered_df = df[df['no_of_events'] >= 1]"
   ]
  },
  {
   "cell_type": "markdown",
   "metadata": {},
   "source": [
    "### Outlier management"
   ]
  },
  {
   "cell_type": "code",
   "execution_count": null,
   "metadata": {
    "vscode": {
     "languageId": "plaintext"
    }
   },
   "outputs": [],
   "source": [
    "# Step 1: Calculate Q1 (25th percentile) and Q3 (75th percentile)\n",
    "Q1 = filtered_df['no_of_events'].quantile(0.25)\n",
    "Q3 = filtered_df['no_of_events'].quantile(0.75)\n",
    "\n",
    "# Step 2: Calculate IQR (Interquartile Range)\n",
    "IQR = Q3 - Q1\n",
    "\n",
    "# Step 3: Define the outlier bounds\n",
    "lower_bound = Q1 - 1.5 * IQR\n",
    "upper_bound = Q3 + 1.5 * IQR\n",
    "\n",
    "# Step 4: Find the outliers\n",
    "outliers = filtered_df[(filtered_df['no_of_events'] < lower_bound) | (filtered_df['no_of_events'] > upper_bound)]\n",
    "\n",
    "# Display the outliers\n",
    "outliers_list = outliers[['sorting_center_name', 'no_of_events', 'scanning_date']]\n",
    "outliers_list.head()\n",
    "\n",
    "fig = px.histogram(outliers_list, x=\"scanning_date\", y=\"no_of_events\", color=\"sorting_center_name\", title=\"Outliers per Date\", barmode='group')\n",
    "fig.show()"
   ]
  },
  {
   "cell_type": "markdown",
   "metadata": {},
   "source": [
    "### Day of the month"
   ]
  },
  {
   "cell_type": "code",
   "execution_count": null,
   "metadata": {
    "vscode": {
     "languageId": "plaintext"
    }
   },
   "outputs": [],
   "source": [
    "# Study for the sorting center VANTAA\n",
    "\n",
    "# Define the number of valid months for each day of the month\n",
    "# Days 1-28 appear in all 12 months, day 29 appears in 11 months (February excluded),\n",
    "# day 30 appears in 11 months (February excluded), and day 31 appears in only 7 months\n",
    "# (months missing the 31st: April, June, September, November).\n",
    "valid_months = {day: 12 for day in range(1, 29)}  # Days 1-28 in all 12 months\n",
    "valid_months[29] = 11  # Day 29 appears in 11 months\n",
    "valid_months[30] = 11  # Day 30 appears in 11 months\n",
    "valid_months[31] = 7   # Day 31 appears in 7 months\n",
    "\n",
    "# Filter data for the sorting center VANTAA\n",
    "center_data = df[df['sorting_center_name'] == 'VANTAA']\n",
    "\n",
    "# Group the data by day of the month and sum the total number of events (orders)\n",
    "daily_volume = center_data.groupby('day')['no_of_events'].sum()\n",
    "\n",
    "# Normalize the daily volume by dividing by the number of months in which each day exists\n",
    "# This adjusts for the fact that not all days (like the 29th, 30th, 31st) occur in every month\n",
    "normalized_volume = daily_volume / daily_volume.index.map(valid_months)\n",
    "\n",
    "# Calculate the percentage of normalized volume for each day\n",
    "# by dividing by the total normalized volume for the sorting center\n",
    "total_normalized_volume = normalized_volume.sum()  # Sum of normalized volumes for all days\n",
    "percentage = (normalized_volume / total_normalized_volume) * 100  # Percentage for each day\n",
    "\n",
    "# Create a DataFrame to store the result for VANTAA\n",
    "result = pd.DataFrame({'VANTAA': percentage})\n",
    "\n",
    "# Plot the data for all days (1-31) in a single bar chart\n",
    "result.plot(kind='bar', figsize=(12, 6), width=0.8)\n",
    "\n",
    "# Add a title and labels to the plot\n",
    "plt.title('Order Volume Distribution for VANTAA (Days 1 to 31)')\n",
    "plt.xlabel('Day of Month')\n",
    "plt.ylabel('Percentage of Normalized Volume')\n",
    "\n",
    "# Set the x-axis labels to be horizontal for better readability\n",
    "plt.xticks(rotation=0)\n",
    "\n",
    "# Adjust the layout to make sure everything fits well\n",
    "plt.tight_layout()\n",
    "plt.show()"
   ]
  },
  {
   "cell_type": "markdown",
   "metadata": {},
   "source": [
    "### Per chute (Tom)"
   ]
  },
  {
   "cell_type": "code",
   "execution_count": null,
   "metadata": {
    "vscode": {
     "languageId": "plaintext"
    }
   },
   "outputs": [],
   "source": [
    "def chute_demand_per_weekday(df, sorting_centers):\n",
    "    fig, axes = plt.subplots(2, 3, figsize=(18, 12), sharey=True)\n",
    "    \n",
    "    axes = axes.flatten()\n",
    "\n",
    "    for i, sorting_center_name in enumerate(sorting_centers):\n",
    "        df_sc = df[df[\"sorting_center_name\"] == sorting_center_name]\n",
    "        chutes = df_sc[\"output_belt\"].unique()\n",
    "\n",
    "        chute_PH_share_dict = {}\n",
    "\n",
    "        for chute in chutes:\n",
    "            df_chute = df_sc[df_sc[\"output_belt\"] == chute]\n",
    "            if df_chute.shape[0] <= 183:\n",
    "                continue\n",
    "            chute_PH_share_dict[chute] = df_chute.groupby('weekday')['no_of_events'].sum() / df_chute['no_of_events'].sum() * 100\n",
    "\n",
    "        ax = axes[i]\n",
    "        for chute, PH_data in chute_PH_share_dict.items():\n",
    "            ax.plot(PH_data.index, PH_data.values, marker='o', label=chute)\n",
    "\n",
    "        ax.set_xlabel('Weekday (1 = Monday, 7 = Sunday)')\n",
    "        if i % 3 == 0:\n",
    "            ax.set_ylabel('Percentage of Deliveries (%)')\n",
    "        ax.set_title(f'{sorting_center_name} Distribution')\n",
    "\n",
    "        ax.grid(True)\n",
    "\n",
    "    plt.suptitle('Delivery Distribution per Weekday Across Chutes for Multiple Sorting Centers', y=1.03)\n",
    "    plt.tight_layout()\n",
    "\n",
    "    # Show the plot\n",
    "    plt.show()"
   ]
  },
  {
   "cell_type": "code",
   "execution_count": null,
   "metadata": {
    "vscode": {
     "languageId": "plaintext"
    }
   },
   "outputs": [],
   "source": [
    "\n",
    "def chute_demand_planning_horizon_per_month(df, sorting_centers):\n",
    "    fig, axes = plt.subplots(2, 3, figsize=(18, 12), sharey=True)\n",
    "    \n",
    "    axes = axes.flatten()\n",
    "\n",
    "    for i, sorting_center_name in enumerate(sorting_centers):\n",
    "        df_sc = df[df[\"sorting_center_name\"] == sorting_center_name]\n",
    "        chutes = df_sc[\"output_belt\"].unique()\n",
    "\n",
    "        chute_PH_share_dict = {}\n",
    "\n",
    "        for chute in chutes:\n",
    "            df_chute = df_sc[df_sc[\"output_belt\"] == chute]\n",
    "            if df_chute.shape[0] <= 183:\n",
    "                continue\n",
    "            chute_PH_share_dict[chute] = df_chute.groupby('month')['no_of_events'].sum() / df_chute['no_of_events'].sum() * 100\n",
    "\n",
    "        ax = axes[i]\n",
    "        for chute, PH_data in chute_PH_share_dict.items():\n",
    "            ax.plot(PH_data.index, PH_data.values, marker='o', label=chute)\n",
    "\n",
    "        ax.set_xlabel('Planning horizon')\n",
    "        if i % 3 == 0:\n",
    "            ax.set_ylabel('Percentage of Deliveries (%)')\n",
    "        ax.set_title(f'{sorting_center_name} Distribution')\n",
    "\n",
    "        ax.grid(True)\n",
    "\n",
    "    plt.suptitle('Delivery Distribution over Planning Horizon Across Chutes for Multiple Sorting Centers', y=1.03)\n",
    "    plt.tight_layout()\n",
    "\n",
    "    # Show the plot\n",
    "    plt.show()"
   ]
  },
  {
   "cell_type": "code",
   "execution_count": null,
   "metadata": {
    "vscode": {
     "languageId": "plaintext"
    }
   },
   "outputs": [],
   "source": [
    "chute_demand_per_weekday(df, sorting_center_names)\n",
    "chute_demand_planning_horizon_per_month(df, sorting_center_names)"
   ]
  }
 ],
 "metadata": {
  "language_info": {
   "name": "python"
  }
 },
 "nbformat": 4,
 "nbformat_minor": 2
}
